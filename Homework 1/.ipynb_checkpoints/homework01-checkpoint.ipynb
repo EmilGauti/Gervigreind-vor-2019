{
 "cells": [
  {
   "cell_type": "markdown",
   "metadata": {},
   "source": [
    "##### REI602M Machine Learning - Homework 1\n",
    "### Due: Sunday 20.1.2019\n",
    "\n",
    "**Objectives**: Python starter, Matplotlib, NumPy, stochastic gradient descent, regression\n",
    "\n",
    "**Name**: Emil Gauti Friðriksson, **email: ** egf3@hi.is, **collaborators:**\n",
    "\n",
    "Please provide your solutions by filling in the appropriate cells in this notebook, creating new cells as needed. Hand in your solution on Gradescope (instructions will be posted on Piazza). Make sure that you are familiar with the course rules on collaboration (encouraged) and copying (very, very, bad!) "
   ]
  },
  {
   "cell_type": "markdown",
   "metadata": {},
   "source": [
    "1) [Python warmup, 15 points] The following code implements the matrix-vector product $y=Ax$ where $A$ is an $n \\times m$ matrix, $x$ is a column vector with $m$ elements and $y$ a column vector with $n$ elements, $y_i = \\sum_{k=1}^m A_{ik}x_k$. (Note that in practice one would use NumPy's `dot` function to perform the multiplication)."
   ]
  },
  {
   "cell_type": "code",
   "execution_count": 1,
   "metadata": {},
   "outputs": [
    {
     "name": "stdout",
     "output_type": "stream",
     "text": [
      "[ 87. 179.]\n"
     ]
    }
   ],
   "source": [
    "import numpy as np\n",
    "\n",
    "def matvecmul(A,x):\n",
    "    n, m = A.shape\n",
    "    assert(m == x.shape[0])\n",
    "    y=np.zeros(n)\n",
    "    for i in range(0, n):\n",
    "        for j in range(0, m):\n",
    "            y[i] = y[i] + A[i,j]*x[j]\n",
    "    return y\n",
    "\n",
    "# Test:\n",
    "A=np.array([ [1,2],[3,4] ])\n",
    "x=np.array([5, 41])\n",
    "print(matvecmul(A,x))"
   ]
  },
  {
   "cell_type": "markdown",
   "metadata": {},
   "source": [
    "a) Write a Python function which computes the sum of each row in the matrix $A$, i.e. $y_i = \\sum_{j=1}^m A_{ij},~i=1,\\ldots,m$, by accessing individual matrix/vector elements directly as is done in the `matvecmul` function above.\n"
   ]
  },
  {
   "cell_type": "code",
   "execution_count": 2,
   "metadata": {
    "collapsed": true
   },
   "outputs": [
    {
     "name": "stdout",
     "output_type": "stream",
     "text": [
      "[3. 7.]\n"
     ]
    }
   ],
   "source": [
    "def rowsum(A):\n",
    "    n, m = A.shape\n",
    "    y=np.zeros(n)\n",
    "    for i in range(0,n):\n",
    "        for j in range(0,m):\n",
    "            y[i] = y[i] + A[i,j]\n",
    "    return y\n",
    "# Test:\n",
    "A=np.array([ [1,2],[3,4] ])\n",
    "print(rowsum(A))"
   ]
  },
  {
   "cell_type": "markdown",
   "metadata": {},
   "source": [
    "b) Modify your function so that only positive elements are included in the sum, again by accessing individual matrix elements."
   ]
  },
  {
   "cell_type": "code",
   "execution_count": 3,
   "metadata": {
    "collapsed": true
   },
   "outputs": [
    {
     "name": "stdout",
     "output_type": "stream",
     "text": [
      "[3. 5.]\n"
     ]
    }
   ],
   "source": [
    "def rowsumpos(A):\n",
    "    n, m = A.shape\n",
    "    y=np.zeros(n)\n",
    "    for i in range(0,n):\n",
    "        for j in range(0,m):\n",
    "            if A[i,j]>0:\n",
    "                y[i] = y[i] + A[i,j]\n",
    "    return y\n",
    "# Test:\n",
    "A=np.array([ [1,-4,2],[1,-3,4] ])\n",
    "print(rowsumpos(A))"
   ]
  },
  {
   "cell_type": "markdown",
   "metadata": {},
   "source": [
    "c) Use the matrix-times vector code above to compute the matrix product $C=AB$ where $A$ is $n \\times m$, $B$ is $m \\times p$ and $C_{ij} = \\sum_{k=1}^m A_{ik} B_{kj}$."
   ]
  },
  {
   "cell_type": "code",
   "execution_count": 4,
   "metadata": {
    "collapsed": true
   },
   "outputs": [
    {
     "name": "stdout",
     "output_type": "stream",
     "text": [
      "[[ 18.  51. 128.]\n",
      " [ 40. 141. 308.]\n",
      " [ 26.  59. 169.]]\n"
     ]
    }
   ],
   "source": [
    "def matmul(A,B):\n",
    "    n, m = A.shape\n",
    "    m2, p= B.shape\n",
    "    assert(m == m2)\n",
    "    C=np.zeros((n,p))\n",
    "    for i in range(0, n):\n",
    "        for j in range(0, m):\n",
    "            for k in range(0,m):\n",
    "                C[i,j] = C[i,j] + A[i,k]*B[k,j]\n",
    "    return C\n",
    "\n",
    "# Test:\n",
    "A=np.array([ [1,2,3],[3,4,5],[1,3,6] ])\n",
    "B=np.array([ [5,41,55],[5,2,32],[1,2,3] ])\n",
    "print(matmul(A,B))"
   ]
  },
  {
   "cell_type": "markdown",
   "metadata": {},
   "source": [
    "2) [NumPy warmup, 15 points] Repeat a), b) and c) in 1) using NumPy functionality. Aim for fast code by avoiding for-loops as much as possible."
   ]
  },
  {
   "cell_type": "code",
   "execution_count": 5,
   "metadata": {
    "collapsed": true
   },
   "outputs": [
    {
     "name": "stdout",
     "output_type": "stream",
     "text": [
      "[-8 -1]\n",
      "[2 3]\n",
      "[[ -40 -546]\n",
      " [  -5  157]]\n"
     ]
    }
   ],
   "source": [
    "def rowsum(A):\n",
    "    return np.sum(A,axis=1)\n",
    "\n",
    "def rowsumpos(A):\n",
    "    A2=A.copy()\n",
    "    A2[A2<0]=0\n",
    "    return np.sum(A2,axis=1)\n",
    "    \n",
    "def matmul(A,B):\n",
    "    return np.asmatrix(A)*np.asmatrix(B)\n",
    "    \n",
    "# Test\n",
    "A=np.array([ [-10,2],[3,-4] ])\n",
    "B=np.array([ [5,55],[5,2] ])\n",
    "print(rowsum(A))\n",
    "print(rowsumpos(A))\n",
    "print(matmul(A,B))"
   ]
  },
  {
   "cell_type": "markdown",
   "metadata": {},
   "source": [
    "3) [Polynomial regression, 30 points] The `Motorcycle` dataset consists of measurements of the acceleration of the head of a motorcycle rider as a function of time in the first moments after an impact during a simulated motorcycle crash. The $x$-values denote time (in milliseconds) after the impact and the response $y$ is the head acceleration (in g's). The dataset contains 133 measurements of the simulated crash.\n",
    "\n",
    "a) Create a figure showing the relationship between the input and output variables (data visualization should be the first step in every data analysis tasks). Why is a linear model not appropriate?"
   ]
  },
  {
   "cell_type": "code",
   "execution_count": 6,
   "metadata": {},
   "outputs": [
    {
     "data": {
      "text/plain": [
       "<Figure size 640x480 with 1 Axes>"
      ]
     },
     "metadata": {},
     "output_type": "display_data"
    }
   ],
   "source": [
    "import matplotlib.pyplot as plt\n",
    "import numpy as np\n",
    "import csv\n",
    "\n",
    "\n",
    "x, y = np.loadtxt('Motorcycle.csv', delimiter='\\t', unpack=True,skiprows=1)\n",
    "\n",
    "plt.plot(x,y)\n",
    "plt.xlabel('Tími[ms]')\n",
    "plt.ylabel('Hröðun(g)[9.8m/s^2]')\n",
    "plt.title('Hröðun sem fall af tíma')\n",
    "plt.show()"
   ]
  },
  {
   "cell_type": "markdown",
   "metadata": {},
   "source": [
    "**Answer:** We see that a linear model is not really acceptable here as the data is not linear. It is too chaotic. To approximate this you would need polynomials of considerably higher orders."
   ]
  },
  {
   "cell_type": "markdown",
   "metadata": {},
   "source": [
    "b) Write a function which performs a least-squares polynomial fit of the data in $y$, given observations in $x$ and degree $d$,\n",
    "$$\n",
    "f_\\theta(x) = \\theta_0 + \\theta_1 x + \\ldots + \\theta_d x^d\n",
    "$$\n",
    "by solving the normal equations, $X^T X \\theta = X^T y$ (see workbook `vika_01.ipynb` on Piazza). You should start by scaling the $x$-values into the interval $[0, 1]$ to avoid numerical difficulties during the solution of the least-squares problem.\n",
    "\n",
    "Plot the mean square error $\\frac{1}{n}J(\\theta)$ as a function of $d=1,2,\\ldots 15$.\n",
    "\n",
    "Which model do you recommend for this data set?"
   ]
  },
  {
   "cell_type": "code",
   "execution_count": 12,
   "metadata": {
    "collapsed": true
   },
   "outputs": [
    {
     "name": "stdout",
     "output_type": "stream",
     "text": [
      "d = 10\n",
      "Theta: [-4.72395069e+02  2.48755108e+04 -4.93425836e+05  4.88936197e+06\n",
      " -2.73150200e+07  9.18597600e+07 -1.92616916e+08  2.53544294e+08\n",
      " -2.03638452e+08  9.12088957e+07 -1.74628954e+07]\n"
     ]
    },
    {
     "data": {
      "image/png": "[encoded data removed]",
      "text/plain": [
       "<Figure size 432x288 with 1 Axes>"
      ]
     },
     "metadata": {},
     "output_type": "display_data"
    },
    {
     "data": {
      "image/png": "[encoded data removed]",
      "text/plain": [
       "<Figure size 432x288 with 1 Axes>"
      ]
     },
     "metadata": {},
     "output_type": "display_data"
    },
    {
     "name": "stdout",
     "output_type": "stream",
     "text": [
      "15\n"
     ]
    },
    {
     "data": {
      "text/plain": [
       "<matplotlib.collections.PathCollection at 0x1891834b390>"
      ]
     },
     "execution_count": 12,
     "metadata": {},
     "output_type": "execute_result"
    },
    {
     "data": {
      "image/png": "[encoded data removed]",
      "text/plain": [
       "<Figure size 432x288 with 1 Axes>"
      ]
     },
     "metadata": {},
     "output_type": "display_data"
    }
   ],
   "source": [
    "def polyfit(X,y,d):\n",
    "    n=X.shape[0]\n",
    "    X2 = np.c_[np.ones(n)]\n",
    "    for i in range(1,d+1):\n",
    "        X2=np.c_[X2,X**(i)]\n",
    "    theta = np.linalg.solve(X2.T.dot(X2), X2.T.dot(y))\n",
    "    f=0\n",
    "    for i in range(0,d+1):\n",
    "        f = f + theta[i]*X**i\n",
    "    return theta, f\n",
    "X, y = np.loadtxt('Motorcycle.csv', delimiter='\\t', unpack=True,skiprows=1)\n",
    "X = X/max(X)\n",
    "d = 10\n",
    "n=len(X)\n",
    "theta, f = polyfit(X,y,d)\n",
    "print(\"d =\",d)\n",
    "print(\"Theta:\", theta)\n",
    "plt.scatter(X,y)\n",
    "plt.xlabel('X')\n",
    "plt.ylabel('Y')\n",
    "plt.title(\"Mæligögn\")\n",
    "plt.show()\n",
    "plt.xlabel('X')\n",
    "plt.ylabel('f')\n",
    "plt.title(\"Nálgun með margliðu af stigi \"+str(d))\n",
    "plt.scatter(X,f)\n",
    "plt.show()\n",
    "J = np.zeros(15)\n",
    "for k in range(0,15):\n",
    "    theta, f = polyfit(X,y,k+1)\n",
    "    for i in range(0,n):\n",
    "        J[k]=J[k]+1/n*(f[i]-y[i])**2\n",
    "print(len(J))\n",
    "s = np.array([1,2,3,4,5,6,7,8,9,10,11,12,13,14,15])\n",
    "plt.scatter(s,J)\n",
    "\n",
    "\n"
   ]
  },
  {
   "cell_type": "markdown",
   "metadata": {},
   "source": [
    "Við sjáum að $J$ er háð $d$ en stærsta villan virðist vera þegar $d=7$ og lægsta villan þegar $d=1$"
   ]
  },
  {
   "cell_type": "markdown",
   "metadata": {},
   "source": [
    "4) [Ridge regression and gradient descent, 40 points] Linear regression does not work well when the number of input variables is large with respect to the number of training examples, small perturbations of the data points can have large effects on the model parameters obtained by minimizing the least-squares cost function. In addition, the method cannot handle wide data sets, i.e. data sets with more features than points ($p>n$). Such data sets arise frequently in genomics and imaging studies as well as in other fields. \n",
    "\n",
    "_Ridge regression_ overcomes these limitations by adding a so-called regularization component to the squared error, resulting in the following objective function\n",
    "$$\n",
    "J(\\theta) = \\underbrace{\\frac{1}{2} \\sum_{i=1}^n (f_\\theta(x^{(i)}) - y^{(i)})^2}_\\text{squared error} + \\underbrace{\\frac{\\lambda}{2} \\sum_{j=1}^p \\theta_i^2}_\\text{regularizer}.\n",
    "$$\n",
    "Here $n$ is the size of the training set, $p$ is the number of input variables (features), $x \\in \\mathbf{R}^p,~ y \\in \\mathbf{R},~ f_\\theta(x)=\\sum_{j=1}^p \\theta_j x_j$ as before and $\\lambda>0$ is a ''regularization'' parameter that needs to be specified. Linear regression is a special case of ridge regression with $\\lambda = 0$. With increasing values of $\\lambda$ the $\\theta$'s \"shrink\" toward zero since the second term in $J(\\theta)$ becomes dominant. This has the effect of reducing the variance in the parameter estimates, i.e. making the parameter estimates less sensitive to fluctuations in the data. At the same time we introduce bias in the model which may lead to decreased prediction accuracy. To obtain a proper balance between bias and variance, the value of $\\lambda$ is often selected by using a procedure called cross-validation (more on that later in the course).\n",
    "\n",
    "*Note 1*: In linear regression we can include the intercept term ($\\theta_0$) in the model by introducing a new input variable, $x_0^{(i)}=1$ for $i=1,\\ldots,n$. In ridge regression we do not want to penalize for the size of the intercept term and it therefore needs to be treated separately. This is done by transforming the input data as shown on page 64 in ESL. In the following, your model should not include an intercept term.\n",
    "\n",
    "*Note 2*: The parameter values that minimize $J$ can be obtained directly by solving the following system of linear equations,\n",
    "$$\n",
    "(X^T X + \\frac{\\lambda}{2} I)\\theta = X^Ty\n",
    "$$\n",
    "where $I$ is the $p \\times p$ identity matrix (a matrix with 1s on the diagonal and 0s everywhere else)."
   ]
  },
  {
   "cell_type": "markdown",
   "metadata": {},
   "source": [
    "a) Create a function `ridge_gd` which implements (batch) gradient descent (GD) for ridge regression. See the lecture notes for details. Use your function to fit a ridge regression model on the form\n",
    "$$\n",
    "f_\\theta(x)=\\sum_{j=1}^p \\theta_j x_j\n",
    "$$\n",
    "to the `Avertising_scaled` dataset provided with this notebook using $\\lambda=100$.\n",
    "\n",
    "$(\\theta_1, \\theta_2, \\theta_3) =$  (7.40501535, 6.47074348, 3.32874375)"
   ]
  },
  {
   "cell_type": "code",
   "execution_count": 120,
   "metadata": {
    "collapsed": true
   },
   "outputs": [
    {
     "name": "stdout",
     "output_type": "stream",
     "text": [
      "Theta nákvæmt: [9.72563232 8.18425398 4.08677798]\n",
      "Theta nálgað:  [7.40501535 6.47074348 3.32874375] með lambda = 100\n"
     ]
    }
   ],
   "source": [
    "def ridge_gd(X, y, lam):\n",
    "    p=X.shape[1]\n",
    "    n=X.shape[0]\n",
    "    theta=np.zeros(p)\n",
    "    alpha=0.001\n",
    "    maxiter=500    \n",
    "    for k in range(0,maxiter):\n",
    "        for j in range(0,p):\n",
    "            error = np.zeros(p)\n",
    "            for i in range(0,n):\n",
    "                error = error + (np.dot(theta,X[i,:])-y[i])*X[i,j]\n",
    "            error = error + lam*theta[j]\n",
    "            theta[j] = theta[j] - alpha*error[j]\n",
    "    return theta\n",
    "data = np.loadtxt('Advertising_scaled.csv', delimiter=',', unpack=False, skiprows=1)\n",
    "X = data[:,0:-1]\n",
    "X[:,0] = (X[:,0]-min(X[:,0]))/(max(X[:,0])-min(X[:,0])) # komum X á bilið [0,1]\n",
    "X[:,1] = (X[:,1]-min(X[:,1]))/(max(X[:,1])-min(X[:,1]))\n",
    "X[:,2] = (X[:,2]-min(X[:,2]))/(max(X[:,2])-min(X[:,2]))\n",
    "y = data[:,3]\n",
    "p = X.shape[1]\n",
    "lam = 100\n",
    "theta_ex = np.linalg.solve(X.T.dot(X) + lam/2*np.identity(p), X.T.dot(y))\n",
    "print(\"Theta nákvæmt:\",theta_ex)\n",
    "theta = ridge_gd(X,y,lam)\n",
    "print(\"Theta nálgað: \",theta, \"með lambda =\",lam)\n"
   ]
  },
  {
   "cell_type": "markdown",
   "metadata": {},
   "source": [
    "b) Create function `ridge_sgd` which implements stochastic gradient descent for ridge regression. Use your function to estimate the parameters in the model above using $\\lambda=100$ and an appropriate value of $\\alpha$ (you may need experiment with several different values).\n",
    "\n",
    "$(\\theta_1, \\theta_2, \\theta_3) = $ (8.19799574, 5.69555146, 2.13073679)\n",
    "\n",
    "*Notes*:\n",
    " * Make sure that you select training examples at random. See the lecture notes and the SGD example in workbook `vika_01.ipynb` on Piazza for details.\n",
    " * You may need to increase the value of `maxiter`."
   ]
  },
  {
   "cell_type": "code",
   "execution_count": 149,
   "metadata": {
    "collapsed": true
   },
   "outputs": [
    {
     "name": "stdout",
     "output_type": "stream",
     "text": [
      "Theta nákvæmt: [9.72563232 8.18425398 4.08677798]\n",
      "Theta nálgað:  [8.12917018 5.53439825 2.04561464]\n"
     ]
    }
   ],
   "source": [
    "def ridge_sgd(X, y, lam, alpha, maxiter=100000):\n",
    "    p=X.shape[1]\n",
    "    theta=np.zeros(p)\n",
    "    error=np.zeros(p)\n",
    "    \n",
    "    for j in range(0,p):\n",
    "        error = np.zeros(p)\n",
    "        for k in range(0,maxiter):\n",
    "            i = np.random.randint(n)\n",
    "            error = error + (np.dot(theta,X[i,:])-y[i])*X[i,j]\n",
    "            error = error + lam*theta[j]\n",
    "        theta[j] = theta[j] - alpha*error[j]\n",
    "    return theta\n",
    "\n",
    "data = np.loadtxt('Advertising_scaled.csv', delimiter=',', unpack=False, skiprows=1)\n",
    "X = data[:,0:-1]\n",
    "X[:,0] = (X[:,0]-min(X[:,0]))/(max(X[:,0])-min(X[:,0])) # komum X á bilið [0,1]\n",
    "X[:,1] = (X[:,1]-min(X[:,1]))/(max(X[:,1])-min(X[:,1]))\n",
    "X[:,2] = (X[:,2]-min(X[:,2]))/(max(X[:,2])-min(X[:,2]))\n",
    "y = data[:,3]\n",
    "p = X.shape[1]\n",
    "lam = 100\n",
    "alpha=0.00001\n",
    "theta_ex = np.linalg.solve(X.T.dot(X) + lam/2*np.identity(p), X.T.dot(y))\n",
    "print(\"Theta nákvæmt:\",theta_ex)\n",
    "theta = ridge_sgd(X,y,lam, alpha)\n",
    "print(\"Theta nálgað: \",theta)\n"
   ]
  },
  {
   "cell_type": "markdown",
   "metadata": {},
   "source": [
    "c) Create a figure that shows shows the value of $J(\\theta)$ after each ITERATION when you apply GD to the `Advertising_scaled` data set. Use the same value of $\\lambda$ as before."
   ]
  },
  {
   "cell_type": "code",
   "execution_count": 119,
   "metadata": {
    "collapsed": true
   },
   "outputs": [
    {
     "name": "stdout",
     "output_type": "stream",
     "text": [
      "[[-8.55231509e+02 -8.55231509e+02 -8.55231509e+02]\n",
      " [-5.28562107e+02 -5.28562107e+02 -5.28562107e+02]\n",
      " [-2.95728004e+02 -2.95728004e+02 -2.95728004e+02]\n",
      " [-1.32823165e+02 -1.32823165e+02 -1.32823165e+02]\n",
      " [-2.16598486e+01 -2.16598486e+01 -2.16598486e+01]\n",
      " [ 5.15501712e+01  5.15501712e+01  5.15501712e+01]\n",
      " [ 9.72169289e+01  9.72169289e+01  9.72169289e+01]\n",
      " [ 1.23162301e+02  1.23162301e+02  1.23162301e+02]\n",
      " [ 1.35230322e+02  1.35230322e+02  1.35230322e+02]\n",
      " [ 1.37757979e+02  1.37757979e+02  1.37757979e+02]\n",
      " [ 1.33937767e+02  1.33937767e+02  1.33937767e+02]\n",
      " [ 1.26096386e+02  1.26096386e+02  1.26096386e+02]\n",
      " [ 1.15908507e+02  1.15908507e+02  1.15908507e+02]\n",
      " [ 1.04560357e+02  1.04560357e+02  1.04560357e+02]\n",
      " [ 9.28745514e+01  9.28745514e+01  9.28745514e+01]\n",
      " [ 8.14050605e+01  8.14050605e+01  8.14050605e+01]\n",
      " [ 7.05091933e+01  7.05091933e+01  7.05091933e+01]\n",
      " [ 6.04019311e+01  6.04019311e+01  6.04019311e+01]\n",
      " [ 5.11967379e+01  5.11967379e+01  5.11967379e+01]\n",
      " [ 4.29360355e+01  4.29360355e+01  4.29360355e+01]\n",
      " [ 3.56138025e+01  3.56138025e+01  3.56138025e+01]\n",
      " [ 2.91921914e+01  2.91921914e+01  2.91921914e+01]\n",
      " [ 2.36136214e+01  2.36136214e+01  2.36136214e+01]\n",
      " [ 1.88094628e+01  1.88094628e+01  1.88094628e+01]\n",
      " [ 1.47061696e+01  1.47061696e+01  1.47061696e+01]\n",
      " [ 1.12295124e+01  1.12295124e+01  1.12295124e+01]\n",
      " [ 8.30740858e+00  8.30740858e+00  8.30740858e+00]\n",
      " [ 5.87172583e+00  5.87172583e+00  5.87172583e+00]\n",
      " [ 3.85934421e+00  3.85934421e+00  3.85934421e+00]\n",
      " [ 2.21268939e+00  2.21268939e+00  2.21268939e+00]\n",
      " [ 8.79897066e-01  8.79897066e-01  8.79897066e-01]\n",
      " [-1.85273233e-01 -1.85273233e-01 -1.85273233e-01]\n",
      " [-1.02368815e+00 -1.02368815e+00 -1.02368815e+00]\n",
      " [-1.67119086e+00 -1.67119086e+00 -1.67119086e+00]\n",
      " [-2.15900651e+00 -2.15900651e+00 -2.15900651e+00]\n",
      " [-2.51417059e+00 -2.51417059e+00 -2.51417059e+00]\n",
      " [-2.75995818e+00 -2.75995818e+00 -2.75995818e+00]\n",
      " [-2.91629936e+00 -2.91629936e+00 -2.91629936e+00]\n",
      " [-3.00017143e+00 -3.00017143e+00 -3.00017143e+00]\n",
      " [-3.02596238e+00 -3.02596238e+00 -3.02596238e+00]\n",
      " [-3.00580307e+00 -3.00580307e+00 -3.00580307e+00]\n",
      " [-2.94986734e+00 -2.94986734e+00 -2.94986734e+00]\n",
      " [-2.86664042e+00 -2.86664042e+00 -2.86664042e+00]\n",
      " [-2.76315744e+00 -2.76315744e+00 -2.76315744e+00]\n",
      " [-2.64521354e+00 -2.64521354e+00 -2.64521354e+00]\n",
      " [-2.51754822e+00 -2.51754822e+00 -2.51754822e+00]\n",
      " [-2.38400603e+00 -2.38400603e+00 -2.38400603e+00]\n",
      " [-2.24767601e+00 -2.24767601e+00 -2.24767601e+00]\n",
      " [-2.11101227e+00 -2.11101227e+00 -2.11101227e+00]\n",
      " [-1.97593765e+00 -1.97593765e+00 -1.97593765e+00]]\n"
     ]
    },
    {
     "data": {
      "image/png": "[encoded data removed]",
      "text/plain": [
       "<Figure size 432x288 with 1 Axes>"
      ]
     },
     "metadata": {},
     "output_type": "display_data"
    },
    {
     "data": {
      "image/png": "[encoded data removed]",
      "text/plain": [
       "<Figure size 432x288 with 1 Axes>"
      ]
     },
     "metadata": {},
     "output_type": "display_data"
    },
    {
     "data": {
      "image/png": "[encoded data removed]",
      "text/plain": [
       "<Figure size 432x288 with 1 Axes>"
      ]
     },
     "metadata": {},
     "output_type": "display_data"
    }
   ],
   "source": [
    "def ridge_gd(X, y, lam,maxiter):\n",
    "\n",
    "    p=X.shape[1]\n",
    "    n=X.shape[0]\n",
    "    theta=np.zeros(p)\n",
    "    alpha=0.001\n",
    "    error = np.zeros((maxiter,p))\n",
    "    for k in range(0,maxiter):\n",
    "        for j in range(0,p):\n",
    "            for i in range(0,n):\n",
    "                error[k,:] = error[k,:] + (np.dot(theta,X[i,:])-y[i])*X[i,j]\n",
    "            error[k,:] = error[k,:] + lam*theta[j]\n",
    "            theta[j] = theta[j] - alpha*error[k,j]\n",
    "    return theta, error\n",
    "\n",
    "\n",
    "\n",
    "data = np.loadtxt('Advertising_scaled.csv', delimiter=',', unpack=False, skiprows=1)\n",
    "X = data[:,0:-1]\n",
    "X[:,0] = X[:,0]/max(X[:,0]) # komum X á bilið [0,1]\n",
    "X[:,1] = X[:,1]/max(X[:,1])\n",
    "X[:,2] = X[:,2]/max(X[:,2])\n",
    "y = data[:,3]\n",
    "p = X.shape[1]\n",
    "n = X.shape[0]\n",
    "\n",
    "lam = 100\n",
    "maxiter=50\n",
    "theta, J = ridge_gd(X,y,lam,maxiter)\n",
    "m = np.arange(maxiter)\n",
    "\n",
    "plt.scatter(m,J[:,0])\n",
    "plt.show(True)\n",
    "plt.scatter(m,J[:,1])\n",
    "plt.show(True)\n",
    "plt.scatter(m,J[:,2])\n",
    "plt.show(True)\n",
    "\n"
   ]
  },
  {
   "cell_type": "markdown",
   "metadata": {},
   "source": [
    "d) Create a figure similar to the one in c) for the SGD algorithm but calculate $J(\\theta)$ every 100 iteration steps or so.\n",
    "\n",
    "How does the graph compare to the one you obtained in c)? Discuss briefly whether you should always select the parameter values from the latest iteration when using this algorithm."
   ]
  },
  {
   "cell_type": "code",
   "execution_count": 155,
   "metadata": {
    "collapsed": true
   },
   "outputs": [
    {
     "data": {
      "image/png": "[encoded data removed]",
      "text/plain": [
       "<Figure size 432x288 with 1 Axes>"
      ]
     },
     "metadata": {},
     "output_type": "display_data"
    },
    {
     "data": {
      "image/png": "[encoded data removed]",
      "text/plain": [
       "<Figure size 432x288 with 1 Axes>"
      ]
     },
     "metadata": {},
     "output_type": "display_data"
    },
    {
     "data": {
      "image/png": "[encoded data removed]",
      "text/plain": [
       "<Figure size 432x288 with 1 Axes>"
      ]
     },
     "metadata": {},
     "output_type": "display_data"
    }
   ],
   "source": [
    "def ridge_sgd(X, y, lam, alpha, maxiter):\n",
    "    p=X.shape[1]\n",
    "    theta=np.zeros(p)\n",
    "    error = np.zeros((maxiter,p))\n",
    "    for j in range(0,p):\n",
    "        for k in range(0,maxiter):\n",
    "            i = np.random.randint(n)\n",
    "            error[k,:] = error[k,:] + (np.dot(theta,X[i,:])-y[i])*X[i,j]\n",
    "            error[k,:] = error[k,:] + lam*theta[j]\n",
    "            theta[j] = theta[j] - alpha*error[k,j]\n",
    "    return theta, error\n",
    "\n",
    "data = np.loadtxt('Advertising_scaled.csv', delimiter=',', unpack=False, skiprows=1)\n",
    "X = data[:,0:-1]\n",
    "X[:,0] = (X[:,0]-min(X[:,0]))/(max(X[:,0])-min(X[:,0])) # komum X á bilið [0,1]\n",
    "X[:,1] = (X[:,1]-min(X[:,1]))/(max(X[:,1])-min(X[:,1]))\n",
    "X[:,2] = (X[:,2]-min(X[:,2]))/(max(X[:,2])-min(X[:,2]))\n",
    "y = data[:,3]\n",
    "p = X.shape[1]\n",
    "lam = 100\n",
    "alpha=0.0001\n",
    "maxiter=10000\n",
    "theta, J = ridge_sgd(X,y,lam,alpha,maxiter)\n",
    "m = np.arange(maxiter)\n",
    "\n",
    "plt.scatter(m,J[:,0])\n",
    "plt.show(True)\n",
    "plt.scatter(m,J[:,1])\n",
    "plt.show(True)\n",
    "plt.scatter(m,J[:,2])\n",
    "plt.show(True)\n"
   ]
  }
 ],
 "metadata": {
  "kernelspec": {
   "display_name": "Python 3",
   "language": "python",
   "name": "python3"
  },
  "language_info": {
   "codemirror_mode": {
    "name": "ipython",
    "version": 3
   },
   "file_extension": ".py",
   "mimetype": "text/x-python",
   "name": "python",
   "nbconvert_exporter": "python",
   "pygments_lexer": "ipython3",
   "version": "3.6.5"
  }
 },
 "nbformat": 4,
 "nbformat_minor": 2
}
