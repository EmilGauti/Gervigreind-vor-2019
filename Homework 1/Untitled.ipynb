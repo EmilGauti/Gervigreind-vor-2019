{
 "cells": [
  {
   "cell_type": "code",
   "execution_count": 4,
   "metadata": {},
   "outputs": [
    {
     "name": "stdout",
     "output_type": "stream",
     "text": [
      "Theta nákvæmt: [9.72563232 8.18425398 4.08677798]\n",
      "Theta nálgað:  [-0.66494726  1.07380907  0.10549209]\n"
     ]
    }
   ],
   "source": [
    "# perform ridge stochastic gradient descent\n",
    "import numpy as np\n",
    "def ridge_sgd(X, y, lam, alpha = 0.01993, maxiter=200000):\n",
    "    n, p = X.shape\n",
    "    theta = np.zeros(p)\n",
    "    for k in range(0,maxiter):\n",
    "        i = np.random.randint(n)\n",
    "        for j in range(0,p):\n",
    "            dJ = (np.dot(theta,X[i,:]) - y[i])*X[i,j] + lam*theta[j]\n",
    "            theta[j] = theta[j] - alpha*dJ\n",
    "    return theta\n",
    "\n",
    "data = np.loadtxt('Advertising_scaled.csv', delimiter=',', unpack=False, skiprows=1)\n",
    "X = data[:,0:-1]\n",
    "X[:,0] = (X[:,0]-min(X[:,0]))/(max(X[:,0])-min(X[:,0])) # komum X á bilið [0,1]\n",
    "X[:,1] = (X[:,1]-min(X[:,1]))/(max(X[:,1])-min(X[:,1]))\n",
    "X[:,2] = (X[:,2]-min(X[:,2]))/(max(X[:,2])-min(X[:,2]))\n",
    "y = data[:,3]\n",
    "p = X.shape[1]\n",
    "lam = 100\n",
    "alpha=0.01993\n",
    "theta_ex = np.linalg.solve(X.T.dot(X) + lam/2*np.identity(p), X.T.dot(y))\n",
    "print(\"Theta nákvæmt:\",theta_ex)\n",
    "theta = ridge_sgd(X,y,lam, alpha)\n",
    "print(\"Theta nálgað: \",theta)"
   ]
  }
 ],
 "metadata": {
  "kernelspec": {
   "display_name": "Python 3",
   "language": "python",
   "name": "python3"
  },
  "language_info": {
   "codemirror_mode": {
    "name": "ipython",
    "version": 3
   },
   "file_extension": ".py",
   "mimetype": "text/x-python",
   "name": "python",
   "nbconvert_exporter": "python",
   "pygments_lexer": "ipython3",
   "version": "3.6.5"
  }
 },
 "nbformat": 4,
 "nbformat_minor": 2
}
