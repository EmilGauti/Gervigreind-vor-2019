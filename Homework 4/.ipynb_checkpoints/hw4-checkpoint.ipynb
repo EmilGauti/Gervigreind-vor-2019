{
 "cells": [
  {
   "cell_type": "markdown",
   "metadata": {},
   "source": [
    "## REI602M Machine Learning - Homework 4\n",
    "### Due: Sunday 10.2.2019\n",
    "\n",
    "**Objectives**: Support vector machines, feature selection. \n",
    "\n",
    "**Name**: Emil Gauti Friðriksson, **email: ** egf3@hi.is, **collaborators:** (if any)\n",
    "\n",
    "Please provide your solutions by filling in the appropriate cells in this notebook, creating new cells as needed. Hand in your solution on Gradescope, taking care to locate the appropriate page numbers in the PDF document. Make sure that you are familiar with the course rules on collaboration (encouraged) and copying (very, very, bad)."
   ]
  },
  {
   "cell_type": "markdown",
   "metadata": {},
   "source": [
    "1) [Stochastic gradient descent for SVM, 40 points]. In this problem you are to implement a stochastic gradient descent algorithm for training a linear SVM. The model is $f_\\theta(x)=\\theta^T x$ (to include an intercept term you can simply set $x_0=1$ as before). The algorithm minimizes the SVM objective function\n",
    "$$\n",
    "   J(\\theta) = \\frac{\\lambda}{2}\\theta^T \\theta + \\frac{1}{n} \\sum_{i=1}^n \\max(0, 1-y^{(i)}\\theta^T x^{(i)}).\n",
    "$$\n",
    "The hinge loss $\\max(0, 1-z)$ is not differentiable at $z=1$ and this results in a objective function which is not differentiable everywhere, hence the gradient of $J(\\theta)$ is not defined everywhere. To deal with this, the SGD algorithm uses the *sub-gradient* of $J$ instead (see below). The algorithm starts from $\\theta^{(0)}=0$ and performs a fixed number of iterations, with step $k$ as follows:\n",
    "\n",
    "Select $i$ uniformly at random from $[1,n]$\n",
    "\n",
    "$\\alpha^{(k)} = \\frac{1}{\\lambda k}$\n",
    "\n",
    "if $y^{(i)}~(\\theta^{(k)})^T x^{(i)} < 1 ~\\textrm{then}$\n",
    "\n",
    "$\\quad \\theta^{(k+1)} = \\theta^{(k)} - \\alpha^{(k)}(\\lambda \\theta^{(k)} - y^{(i)} x^{(i)})$\n",
    "\n",
    "else\n",
    "\n",
    "$\\quad \\theta^{(k+1)} = \\theta^{(k)} - \\alpha^{(k)} \\lambda \\theta^{(k)}$\n",
    "\n",
    "where $\\theta^{(k)}$ denotes the parameter *vector* in iteration $k$ and $\\lambda>0$ is a regularization hyper-parameter. The step size $\\alpha^{(k)}$ decays over the course of iterations instead of being constant as we've seen in previous implementations of SGD.\n",
    "\n",
    "a) [20 points] Implement the SGD algorithm above and use it to classify dataset `hw3_data_a` from homework 3 using $\\lambda=1/100$. Report the model coefficients and training set accuracy.\n",
    "\n",
    "*Comments*:\n",
    "\n",
    "1) To sample uniformly at random from $[0,n-1]$ use `np.random.randint`.\n",
    "\n",
    "2). A *sub-gradient* is a generalization of the gradient for convex functions which are not necessarily differentiable. Such functions arise quite frequently in machine learning, e.g. when one is using the 1-norm for regularization. The sub-gradient of a function at a point is the slope of *a* hyperplane that passes through the point and lies below the graph of the function. We will not cover sub-gradients in more detail in this course."
   ]
  },
  {
   "cell_type": "code",
   "execution_count": 92,
   "metadata": {
    "collapsed": true
   },
   "outputs": [
    {
     "name": "stdout",
     "output_type": "stream",
     "text": [
      "[-3.2032032   3.05572981  2.15020731]\n"
     ]
    },
    {
     "data": {
      "image/png": "[encoded data removed]",
      "text/plain": [
       "<Figure size 1080x504 with 2 Axes>"
      ]
     },
     "metadata": {},
     "output_type": "display_data"
    }
   ],
   "source": [
    "import matplotlib.pyplot as plt\n",
    "import numpy as np\n",
    "def svm_sgd(X,y,lambda_par,max_epochs=10):\n",
    "    # X ... Input variables (n x p matrix)\n",
    "    # y ... Labels (n vector), -1 or 1\n",
    "    # lambda_par ... Regularization constant (non-negative)\n",
    "    # max_epochs ... Maximum number of \"passes\" through the data set\n",
    "\n",
    "    assert(lambda_par > 0)\n",
    "    n = X.shape[0]\n",
    "    p = X.shape[1]\n",
    "    max_iter = max_epochs*n\n",
    "    theta = np.zeros(p)\n",
    "    for k in range(1,max_iter):\n",
    "        i = np.random.randint(n)\n",
    "        alpha = 1/(lambda_par*k)\n",
    "        if y[i]*theta.T@X[i,:]<1:\n",
    "            theta = theta - alpha*(lambda_par*theta-y[i]*X[i,:])\n",
    "        else:\n",
    "            theta = theta - alpha*lambda_par*theta\n",
    "    return theta\n",
    "    \n",
    "    \n",
    "\n",
    "y,X1,X2 = np.loadtxt('hw3_data_a.txt',unpack=True)\n",
    "X = np.c_[np.ones(len(X1)),X1,X2]\n",
    "theta = svm_sgd(X,y,1/100,10)\n",
    "print(theta)\n",
    "#print(X)\n",
    "X1_m = X1[np.where(y == -1)]\n",
    "X1_p = X1[np.where(y == 1)]\n",
    "X2_m = X2[np.where(y == -1)]\n",
    "X2_p = X2[np.where(y == 1)]\n",
    "sign = theta@X.T\n",
    "X_neg = X[np.where(sign<0)]\n",
    "X_pos = X[np.where(sign>=0)]\n",
    "z = np.linspace(0,1,100)\n",
    "f = (-theta[1]*z-theta[0])/theta[2]\n",
    "plt.figure(figsize = (15,7))\n",
    "plt.subplot(1,2,1)\n",
    "\n",
    "plt.scatter(X1_m,X2_m, marker='^')\n",
    "plt.scatter(X1_p,X2_p, marker='+')\n",
    "plt.title('$X_2$ sem fall af $X_1$, +: y=+1, Þríhyrningar: y=-1, Raunveruleg gildi')\n",
    "plt.xlabel('$X_1$')\n",
    "plt.ylabel('$X_2$')\n",
    "plt.ylim(0,1)\n",
    "plt.subplot(1,2,2)\n",
    "plt.scatter(X_neg[:,1],X_neg[:,2],marker='^')\n",
    "plt.scatter(X_pos[:,1],X_pos[:,2],marker='+')\n",
    "plt.plot(z,f)\n",
    "plt.ylim(0,1)\n",
    "plt.title('$X_2$ sem fall af $X_1$, +: y=+1, Þríhyrningar: y=-1, Líkan(SVM)')\n",
    "plt.xlabel('$X_1$')\n",
    "plt.ylabel('$X_2$')\n",
    "plt.show()"
   ]
  },
  {
   "cell_type": "markdown",
   "metadata": {},
   "source": [
    "b) [20 points] Train a linear SVM classifier on a subset of the MNIST dataset from homework 3 consisting of digits 5 and 8 only. Keep track of the objective function value and training set error during the course of iterations. \n",
    "\n",
    "i) Plot the objective function values and training set error as a function of iteration number. Consider using a log-scale for iteration and/or objective values (see e.g. `matplotlib.pyplot.loglog`).\n",
    "\n",
    "ii) Evaluate classifier accuracy using the test set (digits 5 and 8 only) using your classifier.\n",
    "\n",
    "iii) Compare the accuracy of your classifier with the SVM implementation in `sklearn.svm.LinearSVC`.\n",
    "\n",
    "*Comments*:\n",
    "\n",
    "1) Computing the function values and training set error requires a pass through all the training data. This is computationally expensive, especially for large data sets, so you should compute these values once every $T$ iterations where $T$ could e.g. be 100, 1000 or $n$.\n",
    "\n",
    "2) To speed up computations use matrix and vector operations instead of *for*-loops where possible. For example, if the training set is in matrix $X$ you can classify all the examples in a single matrix-vector multiplication, $y_{pred}=X\\theta$. This issue is discussed in some detail in http://cs229.stanford.edu/section/vec_demo/Vectorization_Section.pdf\n",
    "\n",
    "3) You can use the following code to discard all but classes 5 and 8 with `x_train, y_train = filter_classes(x_train, y_train, 5, 8)`\n",
    "\n",
    "```python\n",
    "def filter_classes(X, y, cls1, cls2):\n",
    "    # Reduces training set (X,y) so that it contains only labels cls1, cls2 and then maps the labels to {-1,1}\n",
    "    cond = np.logical_or(y == cls1, y == cls2) \n",
    "    X_red = X[cond,:]\n",
    "    y_red = [-1 if c==cls1 else 1 for c in y[cond]]\n",
    "    return X_red, y_red```\n",
    "    \n",
    "4) Note that the $\\lambda$ parameter in the above SVM formulation is related to the $C$ parameter in the \"standard\" SVM formulation via $\\lambda=1/(nC)$."
   ]
  },
  {
   "cell_type": "code",
   "execution_count": 77,
   "metadata": {
    "collapsed": true
   },
   "outputs": [],
   "source": [
    "def filter_classes(X, y, cls1, cls2):\n",
    "    # Reduces training set (X,y) so that it contains only labels cls1, cls2 and then maps the labels to {-1,1}\n",
    "    cond = np.logical_or(y == cls1, y == cls2) \n",
    "    X_red = X[cond,:]\n",
    "    y_red = [-1 if c==cls1 else 1 for c in y[cond]]\n",
    "    return X_red, y_red"
   ]
  },
  {
   "cell_type": "code",
   "execution_count": 96,
   "metadata": {},
   "outputs": [
    {
     "name": "stdout",
     "output_type": "stream",
     "text": [
      "[[0. 0. 0. ... 0. 0. 0.]\n",
      " [0. 0. 0. ... 0. 0. 0.]\n",
      " [0. 0. 0. ... 0. 0. 0.]\n",
      " ...\n",
      " [0. 0. 0. ... 0. 0. 0.]\n",
      " [0. 0. 0. ... 0. 0. 0.]\n",
      " [0. 0. 0. ... 0. 0. 0.]]\n"
     ]
    }
   ],
   "source": [
    "#Load data\n",
    "data=np.load('mnist.npz')\n",
    "X_train=data['x_train']\n",
    "y_train=data['y_train']\n",
    "X_val=data['x_val']\n",
    "y_val=data['y_val']\n",
    "X_test=data['x_test']\n",
    "y_test=data['y_test']\n",
    "#Reducing data\n",
    "X_train, y_train = filter_classes(X_train,y_train,5,8)\n",
    "X_val,y_val = filter_classes(X_val,y_val,5,8)\n",
    "X_test,y_test = filter_classes(X_test,y_test,5,8)"
   ]
  },
  {
   "cell_type": "code",
   "execution_count": 132,
   "metadata": {},
   "outputs": [
    {
     "data": {
      "text/plain": [
       "Text(0.5,0,'k')"
      ]
     },
     "execution_count": 132,
     "metadata": {},
     "output_type": "execute_result"
    },
    {
     "data": {
      "image/png": "[encoded data removed]",
      "text/plain": [
       "<Figure size 432x288 with 1 Axes>"
      ]
     },
     "metadata": {},
     "output_type": "display_data"
    }
   ],
   "source": [
    "import matplotlib.pyplot as plt\n",
    "import numpy as np\n",
    "from matplotlib import rc\n",
    "def obj_func(theta,X,y,lambda_par):\n",
    "    #J = np.zeros(len(theta))\n",
    "    J=0\n",
    "   # for j in range(len(theta)):\n",
    "    for i in range(len(X)):\n",
    "        element = 0\n",
    "        element = y[i]*theta.T@X[i,:]\n",
    "        if 1-element>0:\n",
    "            J = J + 1 - element\n",
    "                \n",
    "    J = lambda_par/2*theta.T@theta + 1/len(X)*J     \n",
    "    return J\n",
    "\n",
    "def svm_sgd2(X,y,lambda_par,T,max_epochs=10):\n",
    "    # X ... Input variables (n x p matrix)\n",
    "    # y ... Labels (n vector), -1 or 1\n",
    "    # lambda_par ... Regularization constant (non-negative)\n",
    "    # max_epochs ... Maximum number of \"passes\" through the data set\n",
    "\n",
    "    assert(lambda_par > 0)\n",
    "    n = X.shape[0]\n",
    "    p = X.shape[1]\n",
    "    max_iter = max_epochs*n\n",
    "    theta = np.zeros(p)\n",
    "    J = np.empty(0)\n",
    "    no_k = np.empty(0) \n",
    "    for k in range(1,max_iter):\n",
    "        i = np.random.randint(n)\n",
    "        alpha = 1/(lambda_par*k)\n",
    "        if k%T == 0:\n",
    "            J = np.append(J,obj_func(theta,X,y,lambda_par))\n",
    "            no_k = np.append(no_k,k)\n",
    "        if y[i]*theta.T@X[i,:]<1:\n",
    "            theta = theta - alpha*(lambda_par*theta-y[i]*X[i,:])\n",
    "        else:\n",
    "            theta = theta - alpha*lambda_par*theta\n",
    "    return theta, J, no_k\n",
    "\n",
    "T = 1000\n",
    "lambda_par = 1/100\n",
    "max_epochs = 10\n",
    "theta, J, no_k = svm_sgd2(X_train,y_train,lambda_par, T,max_epochs)\n",
    "\n",
    "plt.rc('text', usetex=True)\n",
    "plt.plot(no_k,J)\n",
    "plt.title(r'Objective function $J(\\theta)$ as a function of iteration',fontsize=16)\n",
    "plt.ylabel(r'$J(\\theta)$',fontsize=16)\n",
    "plt.xlabel(r'k',fontsize=16)\n",
    "\n"
   ]
  },
  {
   "cell_type": "markdown",
   "metadata": {},
   "source": [
    "2) [Spam filtering, 30 points - This is based on a problem from Andrew Ng's machine learning course at Stanford]\n",
    "In recent years, spam on electronic newsgroups has been an increasing problem. Here, you will\n",
    "build a classifier to distinguish between \"real\" newsgroup messages, and spam messages.\n",
    "For this experiment, a set of spam emails and a set of genuine newsgroup messages have been obtained.\n",
    "Using only the subject line and body of each message, we’ll learn to distinguish\n",
    "between the spam and non-spam.\n",
    "All the files for the problem are in the file `email_spam.zip`.\n",
    "In order to get the text emails into a form usable by a off-the shelf classifier, some preprocessing on the\n",
    "messages has already been performed. You can look at two sample spam emails in the files `spam_sample_original`,\n",
    "and their preprocessed forms in the files `spam_sample_preprocessed*`. The first line in\n",
    "the preprocessed format is just the label and is not part of the message. The preprocessing\n",
    "ensures that only the message body and subject remain in the dataset; email addresses\n",
    "(EMAILADDR), web addresses (HTTPADDR), currency (DOLLAR) and numbers (NUMBER)\n",
    "were also replaced by the special tokens to allow them to be considered properly in the\n",
    "classification process. (In this problem, we’ll going to call the features \"tokens\" rather than\n",
    "\"words,\" since some of the features will correspond to special values like EMAILADDR.\n",
    "You don’t have to worry about the distinction.) The files `news_sample original` and\n",
    "`news_sample_preprocessed` also give an example of a non-spam mail.\n",
    "\n",
    "The work to extract feature vectors (i.e. classifier inputs) out of the documents has also been done for you, so you\n",
    "can just load in the design matrices (called document-word matrices in text classification)\n",
    "containing all the data. In a document-word matrix, the $i$-th row represents the $i$-th document/email,\n",
    "and the $j$-th column represents the $j$-th distinct token. Thus, the $(i,j)$-entry of\n",
    "this matrix represents the number of occurrences of the $j$-th token in the $i$-th document.\n",
    "\n",
    "For this problem, we’ve chosen as our set of tokens considered (that is, as our vocabulary)\n",
    "only the medium frequency tokens. The intuition is that tokens that occur too often or\n",
    "too rarely do not have much classification value. (Examples tokens that occur very often\n",
    "are words like \"the\", \"and\", and \"of\", which occur in so many emails and are sufficiently\n",
    "content-free that they aren’t worth modeling.) Also, words were stemmed using a standard\n",
    "stemming algorithm; basically, this means that “price,” “prices” and “priced” have all been\n",
    "replaced with “price,” so that they can be treated as the same word. For a list of the tokens\n",
    "used, see the variable file `tokenlist`.\n",
    "Since the document-word matrix is extremely sparse (has lots of zero entries), we have\n",
    "stored it in our own efficient format to save space. You don’t have to worry about this\n",
    "format. The file `read_spam_data.py` provides the function `read_matrix` to read in the document-word\n",
    "matrix and labels.\n",
    "\n",
    "a) [15 points] Train a linear SVM on this dataset using the implementation in `sklearn.svm.LinearSVC`\n",
    "and $C=0.1$. Evaluate the accuracy on the test set for training sets of size 50, 100,\n",
    "200, 400, 800 and 1400 and for the full test set as well.\n",
    "\n",
    "*Comment*: To read the training and test data and the list of tokens behind the features use\n",
    "```python\n",
    "    trainMatrix, tokenlist, trainCategory = readMatrix('MATRIX.TRAIN')\n",
    "    testMatrix, tokenlist, testCategory = readMatrix('MATRIX.TEST')```"
   ]
  },
  {
   "cell_type": "code",
   "execution_count": null,
   "metadata": {
    "collapsed": true
   },
   "outputs": [],
   "source": [
    "# Insert code here\n",
    "# ..."
   ]
  },
  {
   "cell_type": "markdown",
   "metadata": {},
   "source": [
    "b) [15 points] Classifier accuracy is in general strongly dependent on the selection of inputs to the classifier. The GIGO principle (garbage in, garbage out) usually applies. While some classifiers are quite tolerant towards noisy/irrelevant inputs (e.g. tree-based classifiers), the performance of other classifiers can degrade quickly (e.g. nonlinear SVMs). In the *feature selection* problem the task is to identify which features are most relevant for a given classification problem. By performing a careful selection of features, the performance of a classifier can often be improved significantly. Alternatively, it can be interesting to identify a minimal set of features for acceptable performance (e.g. due to high costs of collecting/measuring the full feature set).\n",
    "\n",
    "A simple feature selection strategy considers the weights in a linear SVM after training has been performed. The larger $|\\theta_k|$ is, the larger the role of the corresponding feature in the decision function. The strategy is therefore to rank the features according to $|\\theta_k|$.\n",
    "\n",
    "i) Train a linear SVM on the full spam data set and list the 10 tokens most important tokens in the above sense.\n",
    "\n",
    "ii) Retrain a Linear SVM using only the most important 20 features/tokens. How does the accuracy compare with the full classifier?\n",
    "\n",
    "*Comment*: The weights are stored in the `coef_` attribute in the LinearSVC class. The above feature selection method is discussed in http://proceedings.mlr.press/v3/chang08a/chang08a.pdf"
   ]
  },
  {
   "cell_type": "code",
   "execution_count": null,
   "metadata": {
    "collapsed": true
   },
   "outputs": [],
   "source": [
    "# Insert code here\n",
    "# ..."
   ]
  },
  {
   "cell_type": "markdown",
   "metadata": {},
   "source": [
    "3) [SVM classifier with RBF kernel, 30 points] Train an SVM with RBF kernel on the MNIST data set from last week. Use the validation set to select optimal values of $C$ and the RBF parameter $\\gamma$ by performing a \"grid search\" on the validation set. This is simply a double for-loop where the outer loop iterates over one parameter and the inner loop over the other. For each $(C,\\gamma)$ pair train an RBF SVM on a random subset of the training data (e.g. with 5000 samples, otherwise the training time may become prohibitively long) and evaluate accuracy on the validation set. Use the the following values for $C$, [1, 10, 100] and [1/10, 1/100, 1/1000] for $\\gamma$. Use the best $(C,\\gamma)$ pair to train a final classifier, using as much of the training data as you can and report the test set error. How does the performance compare to last week's $k$-NN and logistic regression classifiers?\n",
    "\n",
    "*Comment*: Use the `sklearn.svm.SVC` implementation in scikit-learn. The training is time consuming since multiclass problems are handled in a one-against-one scheme which results in (10)(9)/2=45 binary classifiers that need to be trained. Since we have a separate validation set we avoid performing $k$-fold cross-validation on all 45 classifiers, with $k$ typically 5 or 10 this could increase the training time 10-fold."
   ]
  },
  {
   "cell_type": "code",
   "execution_count": null,
   "metadata": {
    "collapsed": true
   },
   "outputs": [],
   "source": [
    "# Insert code here\n",
    "# ..."
   ]
  }
 ],
 "metadata": {
  "kernelspec": {
   "display_name": "Python 3",
   "language": "python",
   "name": "python3"
  },
  "language_info": {
   "codemirror_mode": {
    "name": "ipython",
    "version": 3
   },
   "file_extension": ".py",
   "mimetype": "text/x-python",
   "name": "python",
   "nbconvert_exporter": "python",
   "pygments_lexer": "ipython3",
   "version": "3.6.5"
  }
 },
 "nbformat": 4,
 "nbformat_minor": 2
}
