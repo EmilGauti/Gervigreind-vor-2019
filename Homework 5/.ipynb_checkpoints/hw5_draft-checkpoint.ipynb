{
 "cells": [
  {
   "cell_type": "markdown",
   "metadata": {},
   "source": [
    "## REI602M Machine Learning - Homework 5 (under construction!)\n",
    "### Due: Sunday 17.2.2019\n",
    "\n",
    "**Objectives**: Feature scaling, parameter selection, tree classifiers. \n",
    "\n",
    "**Name**: (your name here), **email: ** (your email here), **collaborators:** (if any)\n",
    "\n",
    "Please provide your solutions by filling in the appropriate cells in this notebook, creating new cells as needed. Hand in your solution on Gradescope, taking care to locate the appropriate page numbers in the PDF document. Make sure that you are familiar with the course rules on collaboration (encouraged) and copying (very, very, bad)."
   ]
  },
  {
   "cell_type": "markdown",
   "metadata": {},
   "source": [
    "1\\. [Pre-processing and parameter tuning in a nonlinear SVM classifier, 30 points] The Statlog Satimage data set is an old benchmark in machine learning. It contains data from satellite images and the aim is to predict land type (red soil, cotton crop etc). There are 36 integer valued features and 6 classes. The file `sat.trn` contains 4435 training examples and `sat.tst` contains 2000 test examples. Your task is to obtain an SVM classifier which achieves high classification accuracy on this data set. Use Scikit-learn to carry out the tasks below.\n",
    "\n",
    "i) [6 points] Evaluate the accuracy of an SVM with an RBF kernel (RBF-SVM) using the default values for $C$ and $\\gamma$.\n",
    "\n",
    "ii) [9 points] Scale the data prior to training an RBF-SVM (make sure to scale the test data accordingly, see lecture notes from week 2) and repeat the task from i).\n",
    "\n",
    "iii) [12 points] Use grid search in combination with cross-validation on the (scaled) training set to identify good values of $C$ and $\\gamma$. Retrain a classifier using the best parameter values on the whole training set and evaluate the accuracy of the resulting classifier. You should start with a coarse grid to identify a range of good values and then do another run with a finer grid.\n",
    "\n",
    "iv) [3 point] Comment briefly on the importance of data scaling and model selection for nonlinear SVMs.\n",
    "\n",
    "*Comments*:\n",
    "\n",
    "1) At the time of publication (mid 90's) the best performing classifier was a k-nearest neighbor classifier using Euclidean distance which had an error rate of 9.4%. Description of the data set: https://archive.ics.uci.edu/ml/datasets/Statlog+(Landsat+Satellite)\n",
    "\n",
    "2) Use `preprocessing.StandardScaler` for data scaling.\n",
    "\n",
    "3) The procedure of selecting values of hyper-parameters such as $C$ and $\\gamma$ is called *model selection*. *Grid search* refers to a parameter search where model performance is evaluated over a fixed set of parameter values. The parameter values are frequently logarithmically spaced. The performance is often evaluated using cross-validation or a separate vaidation set if that is available. The performance measure here is classifier accuracy, the fraction of correctly classified examples.\n",
    "\n",
    "4) You can use the `GridSearchCV` class in scikit-learn. See sections 3.1 (cross-validation: evaluating estimator performance), 3.2 (tuning the hyper-parameters of an estimator) and the \"Parameter estimation using grid search with cross-validation\" example."
   ]
  },
  {
   "cell_type": "code",
   "execution_count": 39,
   "metadata": {
    "collapsed": true
   },
   "outputs": [
    {
     "name": "stdout",
     "output_type": "stream",
     "text": [
      "4435\n",
      "37\n",
      "2000\n",
      "37\n",
      "testScore:  0.2385\n",
      "trainScore:  1.0\n"
     ]
    }
   ],
   "source": [
    "import numpy as np\n",
    "#load data:\n",
    "data_train = np.loadtxt('sat.trn')\n",
    "data_test = np.loadtxt('sat.tst')\n",
    "X_train = data_train[:,0:36]\n",
    "y_train = data_train[:,36]\n",
    "X_test = data_test[:,0:36]\n",
    "y_test = data_test[:,36]\n",
    "# i)\n",
    "from sklearn.svm import SVC\n",
    "rbf = SVC(kernel='rbf')\n",
    "rbf.fit(X_train,y_train)\n",
    "testScore = rbf.score(X_test,y_test)\n",
    "trainScore = rbf.score(X_train,y_train)\n",
    "print('testScore: ',testScore)\n",
    "print('trainScore: ',trainScore)"
   ]
  },
  {
   "cell_type": "code",
   "execution_count": 41,
   "metadata": {},
   "outputs": [
    {
     "name": "stdout",
     "output_type": "stream",
     "text": [
      "testScore:  0.8955\n",
      "trainScore:  0.9095828635851184\n"
     ]
    }
   ],
   "source": [
    "#ii) Skölum gögnin og prófum aftur\n",
    "from sklearn.preprocessing import StandardScaler\n",
    "scaler = StandardScaler().fit(X_train)\n",
    "X_train_sc = scaler.transform(X_train)\n",
    "X_test_sc = scaler.transform(X_test)\n",
    "\n",
    "# Prófum með sköluðu gögnunum\n",
    "rbf_sc = SVC(kernel='rbf')\n",
    "rbf_sc.fit(X_train_sc,y_train)\n",
    "testScore_sc = rbf_sc.score(X_test_sc,y_test)\n",
    "trainScore_sc = rbf_sc.score(X_train_sc,y_train)\n",
    "print('testScore: ',testScore_sc)\n",
    "print('trainScore: ',trainScore_sc)\n",
    "\n"
   ]
  },
  {
   "cell_type": "code",
   "execution_count": 68,
   "metadata": {},
   "outputs": [
    {
     "data": {
      "text/plain": [
       "GridSearchCV(cv=5, error_score='raise',\n",
       "       estimator=SVC(C=1.0, cache_size=200, class_weight=None, coef0=0.0,\n",
       "  decision_function_shape='ovr', degree=3, gamma='auto', kernel='rbf',\n",
       "  max_iter=-1, probability=False, random_state=None, shrinking=True,\n",
       "  tol=0.001, verbose=False),\n",
       "       fit_params=None, iid=True, n_jobs=1,\n",
       "       param_grid={'C': [1, 2, 10, 100], 'gamma': [0.01, 0.1, 1, 10]},\n",
       "       pre_dispatch='2*n_jobs', refit=True, return_train_score='warn',\n",
       "       scoring=None, verbose=0)"
      ]
     },
     "execution_count": 68,
     "metadata": {},
     "output_type": "execute_result"
    }
   ],
   "source": [
    "#iii) [12 points] Use grid search in combination with cross-validation on the (scaled) training set to identify good values of  CC  and  γγ . \n",
    "#Retrain a classifier using the best parameter values on the whole training set and evaluate the accuracy of the resulting classifier. \n",
    "#You should start with a coarse grid to identify a range of good values and then do another run with a finer grid.\n",
    "\n",
    "from sklearn.model_selection import cross_val_score\n",
    "from sklearn.model_selection import GridSearchCV\n",
    "parameters = {'C':[1,2,10,100], 'gamma':[0.01,0.1,1,10]}\n",
    "rbf_sc_cv = SVC(kernel='rbf')\n",
    "clf = GridSearchCV(rbf_sc_cv, parameters, cv=5)\n",
    "clf.fit(X_train_sc,y_train)"
   ]
  },
  {
   "cell_type": "code",
   "execution_count": 72,
   "metadata": {},
   "outputs": [
    {
     "name": "stdout",
     "output_type": "stream",
     "text": [
      "TrainScore:  0.9490417136414881\n",
      "testScore:  0.915\n",
      "Bestu parametrar: {'C': 2, 'gamma': 0.1}\n",
      "Besta fit: SVC(C=2, cache_size=200, class_weight=None, coef0=0.0,\n",
      "  decision_function_shape='ovr', degree=3, gamma=0.1, kernel='rbf',\n",
      "  max_iter=-1, probability=False, random_state=None, shrinking=True,\n",
      "  tol=0.001, verbose=False)\n"
     ]
    }
   ],
   "source": [
    "print('TrainScore: ',clf.score(X_train_sc,y_train))\n",
    "print('testScore: ', clf.score(X_test_sc,y_test))\n",
    "\n",
    "print('Bestu parametrar:',clf.best_params_)\n",
    "print('Besta fit:', clf.best_estimator_)"
   ]
  },
  {
   "cell_type": "code",
   "execution_count": 70,
   "metadata": {},
   "outputs": [
    {
     "data": {
      "text/plain": [
       "GridSearchCV(cv=5, error_score='raise',\n",
       "       estimator=SVC(C=1.0, cache_size=200, class_weight=None, coef0=0.0,\n",
       "  decision_function_shape='ovr', degree=3, gamma='auto', kernel='rbf',\n",
       "  max_iter=-1, probability=False, random_state=None, shrinking=True,\n",
       "  tol=0.001, verbose=False),\n",
       "       fit_params=None, iid=True, n_jobs=1,\n",
       "       param_grid={'C': [1.5, 1.8, 2, 2.3, 2.5], 'gamma': [0.05, 0.1, 0.5]},\n",
       "       pre_dispatch='2*n_jobs', refit=True, return_train_score='warn',\n",
       "       scoring=None, verbose=0)"
      ]
     },
     "execution_count": 70,
     "metadata": {},
     "output_type": "execute_result"
    }
   ],
   "source": [
    "#Athugum nálægt gildunum C=2 og gamma=0.1\n",
    "parameters2 = {'C':[1.5,1.8,2,2.3,2.5], 'gamma':[0.05,0.1,0.5]}\n",
    "clf2 = GridSearchCV(rbf_sc_cv,parameters2,cv=5)\n",
    "clf2.fit(X_train_sc,y_train)"
   ]
  },
  {
   "cell_type": "code",
   "execution_count": 71,
   "metadata": {},
   "outputs": [
    {
     "name": "stdout",
     "output_type": "stream",
     "text": [
      "TrainScore:  0.943630214205186\n",
      "testScore:  0.9155\n",
      "Bestu parametrar: {'C': 1.5, 'gamma': 0.1}\n",
      "Besta fit: SVC(C=1.5, cache_size=200, class_weight=None, coef0=0.0,\n",
      "  decision_function_shape='ovr', degree=3, gamma=0.1, kernel='rbf',\n",
      "  max_iter=-1, probability=False, random_state=None, shrinking=True,\n",
      "  tol=0.001, verbose=False)\n"
     ]
    }
   ],
   "source": [
    "print('TrainScore: ',clf2.score(X_train_sc,y_train))\n",
    "print('testScore: ', clf2.score(X_test_sc,y_test))\n",
    "\n",
    "print('Bestu parametrar:',clf2.best_params_)\n",
    "print('Besta fit:', clf2.best_estimator_)"
   ]
  },
  {
   "cell_type": "markdown",
   "metadata": {},
   "source": [
    "**iv)** Eins og sjá má hjá okkur hér er að skölun gagna hefur gríðarlega mikil áhrif á hve nákvæmt módelið okkar er, við fórum úr testScore=0.2385 í testScore=0.8955 bara við það eitt að skala gögnin okkar. Síðan fengum við enn betri nákvæmni þegar við völdum betri gildi á parametrana okkar. við fórum frá testScore=0.8955 yfir í testScore=0.9155 við það að finna gott gildi á $C$ og $\\gamma$"
   ]
  },
  {
   "cell_type": "markdown",
   "metadata": {},
   "source": [
    "2\\. [Feature selection and chemical informatics, 30 points] Quantitative Structure - Activity Relationship (QSAR) models relate the activity of chemical compounds to their structural properties. The activity can e.g. represent the potency of a drug or its toxicity. The structural properties may contain basic information such as i) the fraction of carbon atoms in the compound, ii) the spatial arrangement of atoms in the compound and iii) quantities computed from quantum mechanical simulations (*ab-initio* calculations).\n",
    "\n",
    "The QSAR biodegradation Data Set `biodeg.csv` contains 41 molecular descriptors for two groups of compounds, those that are readily biodegradable (RB) and those that are not (NRB). The data set has 356 examples in the RB class and 699 in the NRB class, i.e. it is somewhat unbalanced.\n",
    "\n",
    "a) [15 points] Obtain a Random forests classifier for predicting whether a given compound is readily biodegradable or not. Use a random 80/20 train/test set split for evaluting the performance of your classifier. Report the sensitivity and specificity of the classifier along with accuracy (see below).\n",
    "\n",
    "b) [15 points] List the names of the 10 *most useful* features for the classification task. Retrain a Random forests classifier using only the 10 most useful features and report sensitivity, specificity and accuracy.\n",
    "\n",
    "*Comments*:\n",
    "\n",
    "1) A description of the data set can be found here: https://archive.ics.uci.edu/ml/datasets/QSAR+biodegradation\n",
    "\n",
    "2) A correctly predicted RB example is said to be a *true positive* and a correctly predicted NRB examples is said to be a *true negative*. When an NRB example is incorrectly predicted as RB it is a *false positive*. False negatives are defined analogously.\n",
    "\n",
    "The *sensitivity* of a binary classifier is defined as TP/(TP+FN) and the *specificity* is defined as TN/(TN+FP) where TP is the number of true positives etc. These values are conveniently obtained from a confusion matrix.\n",
    "\n",
    "3) Sidenote: Repeatedly retraining a classifier with smaller and smaller number of top features until the out-of-bag error starts to increase can cause overfitting."
   ]
  },
  {
   "cell_type": "code",
   "execution_count": 102,
   "metadata": {},
   "outputs": [],
   "source": [
    "#load data and split\n",
    "from sklearn.model_selection import train_test_split\n",
    "data = np.loadtxt('biodeg.csv',delimiter=';')\n",
    "\n",
    "X = data[:,0:41]\n",
    "y = data[:,41]\n",
    "X_train, X_test, y_train, y_test = train_test_split(X,\n",
    "                                y, test_size=0.20, random_state=42)"
   ]
  },
  {
   "cell_type": "code",
   "execution_count": 103,
   "metadata": {
    "collapsed": true
   },
   "outputs": [
    {
     "name": "stdout",
     "output_type": "stream",
     "text": [
      "Train Score: 0.985781990521327\n",
      "Test Score: 0.8862559241706162\n"
     ]
    }
   ],
   "source": [
    "from sklearn.ensemble import RandomForestClassifier\n",
    "clf = RandomForestClassifier()\n",
    "clf.fit(X_train,y_train)\n",
    "print('Train Score:',clf.score(X_train,y_train))\n",
    "print('Test Score:',clf.score(X_test,y_test))"
   ]
  },
  {
   "cell_type": "code",
   "execution_count": 124,
   "metadata": {},
   "outputs": [
    {
     "data": {
      "image/png": "[encoded data removed]",
      "text/plain": [
       "<Figure size 720x720 with 2 Axes>"
      ]
     },
     "metadata": {},
     "output_type": "display_data"
    }
   ],
   "source": [
    "from sklearn import metrics\n",
    "import matplotlib.pyplot as plt\n",
    "cm = metrics.confusion_matrix(y_test,clf.predict(X_test))\n",
    "plt.figure(figsize=(10,10))\n",
    "plt.imshow(cm, cmap='cool')\n",
    "plt.title('Confusion matrix Random Forest Classifier')\n",
    "plt.xlabel('Raunverulegt gildi')\n",
    "plt.ylabel('Metið gildi')\n",
    "plt.xticks([0,1])\n",
    "plt.yticks([0,1])\n",
    "plt.colorbar()\n",
    "n = cm.shape[0]\n",
    "p = cm.shape[1]\n",
    "blabb = ['True negative','False negative','False positive','True positive']\n",
    "ind=0\n",
    "for i in range(n):\n",
    "    for j in range(p):        \n",
    "        plt.annotate(str(cm[i,j]),xy=(i,j), \n",
    "                     horizontalalignment='center', verticalalignment='center')\n",
    "        plt.annotate(blabb[ind],xy=(i,j+0.1), horizontalalignment='center'\n",
    "                     , verticalalignment='center')\n",
    "        ind=ind+1"
   ]
  },
  {
   "cell_type": "markdown",
   "metadata": {},
   "source": [
    "Þá sjáum við að *sensitivity* er $\\frac{\\text{TP}}{\\text{TP+FN}} = \\frac{61}{61+10} = 0.859155$ og *specificity* er $\\frac{\\text{TN}}{\\text{TN+FP}} = \\frac{126}{126+14} = 0.9$"
   ]
  },
  {
   "cell_type": "code",
   "execution_count": 161,
   "metadata": {},
   "outputs": [
    {
     "name": "stdout",
     "output_type": "stream",
     "text": [
      "Nafn áhrifamestu þátta \n",
      "\n",
      "14) LOC: Lopping centric index \n",
      "8) C%: Percentage of C atoms \n",
      "31) TI2_L: Second Mohar index from Laplace matrix \n",
      "12) SdssC: Sum of dssC E-states \n",
      "22) SpPosA_B(p): Normalized spectral positive sum from Burden matrix weighted by polarizability \n",
      "37) Psi_i_A: Intrinsic state pseudoconnectivity index - type S average \n",
      "15) SM6_L: Spectral moment of order 6 from Laplace matrix \n",
      "39) SM6_B(m): Spectral moment of order 6 from Burden matrix weighted by mass \n",
      "36) SpMax_B(m): Leading eigenvalue from Burden matrix weighted by mass \n",
      "1) SpMax_L: Leading eigenvalue from Laplace matrix \n"
     ]
    }
   ],
   "source": [
    "#b)List the names of the 10 most useful features for the classification task. Retrain a Random forests classifier using \n",
    "#only the 10 most useful features and report sensitivity, specificity and accuracy.\n",
    "\n",
    "\n",
    "descriptors = open('descriptors.txt').read().splitlines()\n",
    "\n",
    "#Byrjum á að finna áhrifamestu þætti\n",
    "theta = clf.feature_importances_\n",
    "#print('Þyngd allra þátta:')\n",
    "#print(theta)\n",
    "abstheta = abs(theta)\n",
    "#10 stærstu theta:\n",
    "index10 = np.argsort(abstheta)[-10:]\n",
    "max10_theta = theta[index10]\n",
    "#print('þyngd áhrifamestu þátta:')\n",
    "#print(max10_theta)\n",
    "#print('index áhrifamestu þátta:')\n",
    "#print(index10,'\\n')\n",
    "print('Nafn áhrifamestu þátta \\n')\n",
    "for ind in index10:\n",
    "    print(descriptors[ind])\n",
    "\n",
    "\n"
   ]
  },
  {
   "cell_type": "code",
   "execution_count": 165,
   "metadata": {},
   "outputs": [
    {
     "name": "stdout",
     "output_type": "stream",
     "text": [
      "Train Score: 0.990521327014218\n",
      "Test Score: 0.8436018957345972\n"
     ]
    },
    {
     "data": {
      "image/png": "[encoded data removed]",
      "text/plain": [
       "<Figure size 720x720 with 2 Axes>"
      ]
     },
     "metadata": {},
     "output_type": "display_data"
    }
   ],
   "source": [
    "n=X_train.shape[0]\n",
    "p=X_train.shape[1]\n",
    "X_train_red = np.zeros((n,p))\n",
    "for ind in index10:\n",
    "    X_train_red[:,ind] = X_train[:,ind]\n",
    "clf_red = RandomForestClassifier()\n",
    "clf_red.fit(X_train_red,y_train)\n",
    "print('Train Score:',clf_red.score(X_train,y_train))\n",
    "print('Test Score:',clf_red.score(X_test,y_test))\n",
    "\n",
    "#Confusion matrix\n",
    "cm = metrics.confusion_matrix(y_test,clf_red.predict(X_test))\n",
    "plt.figure(figsize=(10,10))\n",
    "plt.imshow(cm, cmap='cool')\n",
    "plt.title('Confusion matrix Random Forest Classifier, simplified model')\n",
    "plt.xlabel('Raunverulegt gildi')\n",
    "plt.ylabel('Metið gildi')\n",
    "plt.xticks([0,1])\n",
    "plt.yticks([0,1])\n",
    "plt.colorbar()\n",
    "n = cm.shape[0]\n",
    "p = cm.shape[1]\n",
    "blabb = ['True negative','False negative','False positive','True positive']\n",
    "ind=0\n",
    "for i in range(n):\n",
    "    for j in range(p):        \n",
    "        plt.annotate(str(cm[i,j]),xy=(i,j), \n",
    "                     horizontalalignment='center', verticalalignment='center')\n",
    "        plt.annotate(blabb[ind],xy=(i,j+0.1), horizontalalignment='center'\n",
    "                     , verticalalignment='center')\n",
    "        ind=ind+1"
   ]
  },
  {
   "cell_type": "markdown",
   "metadata": {},
   "source": [
    "Þá sjáum við að *sensitivity* er $\\frac{\\text{TP}}{\\text{TP+FN}} = \\frac{55}{55+13} = 0.808824$ og *specificity* er $\\frac{\\text{TN}}{\\text{TN+FP}} = \\frac{123}{123+20} = 0.860140$"
   ]
  },
  {
   "cell_type": "markdown",
   "metadata": {},
   "source": [
    "3\\. **Under construction!**"
   ]
  }
 ],
 "metadata": {
  "kernelspec": {
   "display_name": "Python 3",
   "language": "python",
   "name": "python3"
  },
  "language_info": {
   "codemirror_mode": {
    "name": "ipython",
    "version": 3
   },
   "file_extension": ".py",
   "mimetype": "text/x-python",
   "name": "python",
   "nbconvert_exporter": "python",
   "pygments_lexer": "ipython3",
   "version": "3.6.5"
  }
 },
 "nbformat": 4,
 "nbformat_minor": 2
}
