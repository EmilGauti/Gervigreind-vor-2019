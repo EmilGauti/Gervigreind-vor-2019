{
 "cells": [
  {
   "cell_type": "markdown",
   "metadata": {},
   "source": [
    "## REI602M Machine Learning - Homework 5 (under construction!)\n",
    "### Due: Sunday 17.2.2019\n",
    "\n",
    "**Objectives**: Feature scaling, parameter selection, tree classifiers. \n",
    "\n",
    "**Name**: Emil Gauti Friðriksson, **email: ** egf3@hi.is, **collaborators:** (if any)\n",
    "\n",
    "Please provide your solutions by filling in the appropriate cells in this notebook, creating new cells as needed. Hand in your solution on Gradescope, taking care to locate the appropriate page numbers in the PDF document. Make sure that you are familiar with the course rules on collaboration (encouraged) and copying (very, very, bad)."
   ]
  },
  {
   "cell_type": "markdown",
   "metadata": {},
   "source": [
    "1\\. [Pre-processing and parameter tuning in a nonlinear SVM classifier, 30 points] The Statlog Satimage data set is an old benchmark in machine learning. It contains data from satellite images and the aim is to predict land type (red soil, cotton crop etc). There are 36 integer valued features and 6 classes. The file `sat.trn` contains 4435 training examples and `sat.tst` contains 2000 test examples. Your task is to obtain an SVM classifier which achieves high classification accuracy on this data set. Use Scikit-learn to carry out the tasks below.\n",
    "\n",
    "i) [6 points] Evaluate the accuracy of an SVM with an RBF kernel (RBF-SVM) using the default values for $C$ and $\\gamma$.\n",
    "\n",
    "ii) [9 points] Scale the data prior to training an RBF-SVM (make sure to scale the test data accordingly, see lecture notes from week 2) and repeat the task from i).\n",
    "\n",
    "iii) [12 points] Use grid search in combination with cross-validation on the (scaled) training set to identify good values of $C$ and $\\gamma$. Retrain a classifier using the best parameter values on the whole training set and evaluate the accuracy of the resulting classifier. You should start with a coarse grid to identify a range of good values and then do another run with a finer grid.\n",
    "\n",
    "iv) [3 point] Comment briefly on the importance of data scaling and model selection for nonlinear SVMs.\n",
    "\n",
    "*Comments*:\n",
    "\n",
    "1) At the time of publication (mid 90's) the best performing classifier was a k-nearest neighbor classifier using Euclidean distance which had an error rate of 9.4%. Description of the data set: https://archive.ics.uci.edu/ml/datasets/Statlog+(Landsat+Satellite)\n",
    "\n",
    "2) Use `preprocessing.StandardScaler` for data scaling.\n",
    "\n",
    "3) The procedure of selecting values of hyper-parameters such as $C$ and $\\gamma$ is called *model selection*. *Grid search* refers to a parameter search where model performance is evaluated over a fixed set of parameter values. The parameter values are frequently logarithmically spaced. The performance is often evaluated using cross-validation or a separate vaidation set if that is available. The performance measure here is classifier accuracy, the fraction of correctly classified examples.\n",
    "\n",
    "4) You can use the `GridSearchCV` class in scikit-learn. See sections 3.1 (cross-validation: evaluating estimator performance), 3.2 (tuning the hyper-parameters of an estimator) and the \"Parameter estimation using grid search with cross-validation\" example."
   ]
  },
  {
   "cell_type": "code",
   "execution_count": 88,
   "metadata": {
    "collapsed": true
   },
   "outputs": [
    {
     "name": "stdout",
     "output_type": "stream",
     "text": [
      "testScore:  0.2385\n",
      "trainScore:  1.0\n"
     ]
    }
   ],
   "source": [
    "import numpy as np\n",
    "#load data:\n",
    "data_train = np.loadtxt('sat.trn')\n",
    "data_test = np.loadtxt('sat.tst')\n",
    "X_train = data_train[:,0:36]\n",
    "y_train = data_train[:,36]\n",
    "X_test = data_test[:,0:36]\n",
    "y_test = data_test[:,36]\n",
    "# i)\n",
    "from sklearn.svm import SVC\n",
    "rbf = SVC(kernel='rbf')\n",
    "rbf.fit(X_train,y_train)\n",
    "testScore = rbf.score(X_test,y_test)\n",
    "trainScore = rbf.score(X_train,y_train)\n",
    "print('testScore: ',testScore)\n",
    "print('trainScore: ',trainScore)"
   ]
  },
  {
   "cell_type": "code",
   "execution_count": 89,
   "metadata": {},
   "outputs": [
    {
     "name": "stdout",
     "output_type": "stream",
     "text": [
      "testScore:  0.8955\n",
      "trainScore:  0.9095828635851184\n"
     ]
    }
   ],
   "source": [
    "#ii) Skölum gögnin og prófum aftur\n",
    "from sklearn.preprocessing import StandardScaler\n",
    "scaler = StandardScaler().fit(X_train)\n",
    "X_train_sc = scaler.transform(X_train)\n",
    "X_test_sc = scaler.transform(X_test)\n",
    "\n",
    "# Prófum með sköluðu gögnunum\n",
    "rbf_sc = SVC(kernel='rbf')\n",
    "rbf_sc.fit(X_train_sc,y_train)\n",
    "testScore_sc = rbf_sc.score(X_test_sc,y_test)\n",
    "trainScore_sc = rbf_sc.score(X_train_sc,y_train)\n",
    "print('testScore: ',testScore_sc)\n",
    "print('trainScore: ',trainScore_sc)\n",
    "\n"
   ]
  },
  {
   "cell_type": "code",
   "execution_count": 90,
   "metadata": {},
   "outputs": [
    {
     "data": {
      "text/plain": [
       "GridSearchCV(cv=5, error_score='raise',\n",
       "       estimator=SVC(C=1.0, cache_size=200, class_weight=None, coef0=0.0,\n",
       "  decision_function_shape='ovr', degree=3, gamma='auto', kernel='rbf',\n",
       "  max_iter=-1, probability=False, random_state=None, shrinking=True,\n",
       "  tol=0.001, verbose=False),\n",
       "       fit_params=None, iid=True, n_jobs=1,\n",
       "       param_grid={'C': [1, 2, 10, 100], 'gamma': [0.01, 0.1, 1, 10]},\n",
       "       pre_dispatch='2*n_jobs', refit=True, return_train_score='warn',\n",
       "       scoring=None, verbose=0)"
      ]
     },
     "execution_count": 90,
     "metadata": {},
     "output_type": "execute_result"
    }
   ],
   "source": [
    "#iii) [12 points] Use grid search in combination with cross-validation on the (scaled) training set to identify good values of  CC  and  γγ . \n",
    "#Retrain a classifier using the best parameter values on the whole training set and evaluate the accuracy of the resulting classifier. \n",
    "#You should start with a coarse grid to identify a range of good values and then do another run with a finer grid.\n",
    "\n",
    "from sklearn.model_selection import cross_val_score\n",
    "from sklearn.model_selection import GridSearchCV\n",
    "parameters = {'C':[1,2,10,100], 'gamma':[0.01,0.1,1,10]}\n",
    "rbf_sc_cv = SVC(kernel='rbf')\n",
    "clf = GridSearchCV(rbf_sc_cv, parameters, cv=5)\n",
    "clf.fit(X_train_sc,y_train)"
   ]
  },
  {
   "cell_type": "code",
   "execution_count": 91,
   "metadata": {},
   "outputs": [
    {
     "name": "stdout",
     "output_type": "stream",
     "text": [
      "TrainScore:  0.9490417136414881\n",
      "testScore:  0.915\n",
      "Bestu parametrar: {'C': 2, 'gamma': 0.1}\n",
      "Besta fit: SVC(C=2, cache_size=200, class_weight=None, coef0=0.0,\n",
      "  decision_function_shape='ovr', degree=3, gamma=0.1, kernel='rbf',\n",
      "  max_iter=-1, probability=False, random_state=None, shrinking=True,\n",
      "  tol=0.001, verbose=False)\n"
     ]
    }
   ],
   "source": [
    "print('TrainScore: ',clf.score(X_train_sc,y_train))\n",
    "print('testScore: ', clf.score(X_test_sc,y_test))\n",
    "\n",
    "print('Bestu parametrar:',clf.best_params_)\n",
    "print('Besta fit:', clf.best_estimator_)"
   ]
  },
  {
   "cell_type": "code",
   "execution_count": 92,
   "metadata": {},
   "outputs": [
    {
     "data": {
      "text/plain": [
       "GridSearchCV(cv=5, error_score='raise',\n",
       "       estimator=SVC(C=1.0, cache_size=200, class_weight=None, coef0=0.0,\n",
       "  decision_function_shape='ovr', degree=3, gamma='auto', kernel='rbf',\n",
       "  max_iter=-1, probability=False, random_state=None, shrinking=True,\n",
       "  tol=0.001, verbose=False),\n",
       "       fit_params=None, iid=True, n_jobs=1,\n",
       "       param_grid={'C': [1.5, 1.8, 2, 2.3, 2.5], 'gamma': [0.05, 0.1, 0.5]},\n",
       "       pre_dispatch='2*n_jobs', refit=True, return_train_score='warn',\n",
       "       scoring=None, verbose=0)"
      ]
     },
     "execution_count": 92,
     "metadata": {},
     "output_type": "execute_result"
    }
   ],
   "source": [
    "#Athugum nálægt gildunum C=2 og gamma=0.1\n",
    "parameters2 = {'C':[1.5,1.8,2,2.3,2.5], 'gamma':[0.05,0.1,0.5]}\n",
    "clf2 = GridSearchCV(rbf_sc_cv,parameters2,cv=5)\n",
    "clf2.fit(X_train_sc,y_train)"
   ]
  },
  {
   "cell_type": "code",
   "execution_count": 93,
   "metadata": {},
   "outputs": [
    {
     "name": "stdout",
     "output_type": "stream",
     "text": [
      "TrainScore:  0.943630214205186\n",
      "testScore:  0.9155\n",
      "Bestu parametrar: {'C': 1.5, 'gamma': 0.1}\n",
      "Besta fit: SVC(C=1.5, cache_size=200, class_weight=None, coef0=0.0,\n",
      "  decision_function_shape='ovr', degree=3, gamma=0.1, kernel='rbf',\n",
      "  max_iter=-1, probability=False, random_state=None, shrinking=True,\n",
      "  tol=0.001, verbose=False)\n"
     ]
    }
   ],
   "source": [
    "print('TrainScore: ',clf2.score(X_train_sc,y_train))\n",
    "print('testScore: ', clf2.score(X_test_sc,y_test))\n",
    "\n",
    "print('Bestu parametrar:',clf2.best_params_)\n",
    "print('Besta fit:', clf2.best_estimator_)"
   ]
  },
  {
   "cell_type": "markdown",
   "metadata": {},
   "source": [
    "**iv)** Eins og sjá má hjá okkur hér er að skölun gagna hefur gríðarlega mikil áhrif á hve nákvæmt módelið okkar er, við fórum úr testScore=0.2385 í testScore=0.8955 bara við það eitt að skala gögnin okkar. Síðan fengum við enn betri nákvæmni þegar við völdum betri gildi á parametrana okkar. við fórum frá testScore=0.8955 yfir í testScore=0.9155 við það að finna gott gildi á $C$ og $\\gamma$ ($C=1.5$ og $\\gamma = 0.1$)"
   ]
  },
  {
   "cell_type": "markdown",
   "metadata": {},
   "source": [
    "2\\. [Feature selection and chemical informatics, 30 points] Quantitative Structure - Activity Relationship (QSAR) models relate the activity of chemical compounds to their structural properties. The activity can e.g. represent the potency of a drug or its toxicity. The structural properties may contain basic information such as i) the fraction of carbon atoms in the compound, ii) the spatial arrangement of atoms in the compound and iii) quantities computed from quantum mechanical simulations (*ab-initio* calculations).\n",
    "\n",
    "The QSAR biodegradation Data Set `biodeg.csv` contains 41 molecular descriptors for two groups of compounds, those that are readily biodegradable (RB) and those that are not (NRB). The data set has 356 examples in the RB class and 699 in the NRB class, i.e. it is somewhat unbalanced.\n",
    "\n",
    "a) [15 points] Obtain a Random forests classifier for predicting whether a given compound is readily biodegradable or not. Use a random 80/20 train/test set split for evaluting the performance of your classifier. Report the sensitivity and specificity of the classifier along with accuracy (see below).\n",
    "\n",
    "b) [15 points] List the names of the 10 *most useful* features for the classification task. Retrain a Random forests classifier using only the 10 most useful features and report sensitivity, specificity and accuracy.\n",
    "\n",
    "*Comments*:\n",
    "\n",
    "1) A description of the data set can be found here: https://archive.ics.uci.edu/ml/datasets/QSAR+biodegradation\n",
    "\n",
    "2) A correctly predicted RB example is said to be a *true positive* and a correctly predicted NRB examples is said to be a *true negative*. When an NRB example is incorrectly predicted as RB it is a *false positive*. False negatives are defined analogously.\n",
    "\n",
    "The *sensitivity* of a binary classifier is defined as TP/(TP+FN) and the *specificity* is defined as TN/(TN+FP) where TP is the number of true positives etc. These values are conveniently obtained from a confusion matrix.\n",
    "\n",
    "3) Sidenote: Repeatedly retraining a classifier with smaller and smaller number of top features until the out-of-bag error starts to increase can cause overfitting."
   ]
  },
  {
   "cell_type": "code",
   "execution_count": 94,
   "metadata": {},
   "outputs": [],
   "source": [
    "#load data and split\n",
    "from sklearn.model_selection import train_test_split\n",
    "data = np.loadtxt('biodeg.csv',delimiter=';')\n",
    "\n",
    "X = data[:,0:41]\n",
    "y = data[:,41]\n",
    "X_train, X_test, y_train, y_test = train_test_split(X,\n",
    "                                y, test_size=0.20, random_state=42)"
   ]
  },
  {
   "cell_type": "code",
   "execution_count": 95,
   "metadata": {
    "collapsed": true
   },
   "outputs": [
    {
     "name": "stdout",
     "output_type": "stream",
     "text": [
      "Train Score: 0.9869668246445498\n",
      "Test Score: 0.8815165876777251\n"
     ]
    }
   ],
   "source": [
    "from sklearn.ensemble import RandomForestClassifier\n",
    "clf = RandomForestClassifier()\n",
    "clf.fit(X_train,y_train)\n",
    "print('Train Score:',clf.score(X_train,y_train))\n",
    "print('Test Score:',clf.score(X_test,y_test))"
   ]
  },
  {
   "cell_type": "code",
   "execution_count": 96,
   "metadata": {},
   "outputs": [
    {
     "name": "stdout",
     "output_type": "stream",
     "text": [
      "Model sensitivity: 0.7733333333333333\n",
      "Model specificity: 0.9411764705882353\n"
     ]
    },
    {
     "data": {
      "image/png": "[encoded data removed]",
      "text/plain": [
       "<Figure size 504x504 with 2 Axes>"
      ]
     },
     "metadata": {},
     "output_type": "display_data"
    }
   ],
   "source": [
    "from sklearn import metrics\n",
    "import matplotlib.pyplot as plt\n",
    "cm = metrics.confusion_matrix(y_test,clf.predict(X_test))\n",
    "plt.figure(figsize=(7,7))\n",
    "plt.imshow(cm, cmap='cool')\n",
    "plt.title('Confusion matrix Random Forest Classifier')\n",
    "plt.xlabel('Raunverulegt gildi')\n",
    "plt.ylabel('Metið gildi')\n",
    "plt.xticks([0,1])\n",
    "plt.yticks([0,1])\n",
    "plt.colorbar()\n",
    "n = cm.shape[0]\n",
    "p = cm.shape[1]\n",
    "blabb = ['True negative','False positive','False negative','True positive']\n",
    "ind=0\n",
    "for i in range(n):\n",
    "    for j in range(p):        \n",
    "        plt.annotate(str(cm[i,j]),xy=(i,j), \n",
    "                     horizontalalignment='center', verticalalignment='center')\n",
    "        plt.annotate(blabb[ind],xy=(i,j+0.1), horizontalalignment='center'\n",
    "                     , verticalalignment='center')\n",
    "        ind=ind+1\n",
    "sens = cm[1,1]/(cm[1,1] + cm[1,0])\n",
    "spec = cm[0,0]/(cm[0,0] + cm[0,1])\n",
    "\n",
    "print('Model sensitivity:', sens)\n",
    "print('Model specificity:', spec)"
   ]
  },
  {
   "cell_type": "markdown",
   "metadata": {},
   "source": [
    "Þá sjáum við að *sensitivity* er $\\frac{\\text{TP}}{\\text{TP+FN}} = 0.7733$ og *specificity* er $\\frac{\\text{TN}}{\\text{TN+FP}} = 0.9411$"
   ]
  },
  {
   "cell_type": "code",
   "execution_count": 97,
   "metadata": {},
   "outputs": [
    {
     "name": "stdout",
     "output_type": "stream",
     "text": [
      "Nafn áhrifamestu þátta \n",
      "\n",
      "27) SpMax_A: Leading eigenvalue from adjacency matrix (Lovasz-Pelikan index) \n",
      "2) J_Dz(e): Balaban-like index from Barysz matrix weighted by Sanderson electronegativity \n",
      "37) Psi_i_A: Intrinsic state pseudoconnectivity index - type S average \n",
      "8) C%: Percentage of C atoms \n",
      "15) SM6_L: Spectral moment of order 6 from Laplace matrix \n",
      "12) SdssC: Sum of dssC E-states \n",
      "39) SM6_B(m): Spectral moment of order 6 from Burden matrix weighted by mass \n",
      "1) SpMax_L: Leading eigenvalue from Laplace matrix \n",
      "36) SpMax_B(m): Leading eigenvalue from Burden matrix weighted by mass \n",
      "22) SpPosA_B(p): Normalized spectral positive sum from Burden matrix weighted by polarizability \n"
     ]
    }
   ],
   "source": [
    "#b)List the names of the 10 most useful features for the classification task. Retrain a Random forests classifier using \n",
    "#only the 10 most useful features and report sensitivity, specificity and accuracy.\n",
    "\n",
    "\n",
    "descriptors = open('descriptors.txt').read().splitlines()\n",
    "\n",
    "#Byrjum á að finna áhrifamestu þætti\n",
    "theta = clf.feature_importances_\n",
    "\n",
    "abstheta = abs(theta)\n",
    "#10 stærstu theta:\n",
    "index10 = np.argsort(abstheta)[-10:]\n",
    "max10_theta = theta[index10]\n",
    "\n",
    "print('Nafn áhrifamestu þátta \\n')\n",
    "for ind in index10:\n",
    "    print(descriptors[ind])\n",
    "\n",
    "\n"
   ]
  },
  {
   "cell_type": "code",
   "execution_count": 98,
   "metadata": {},
   "outputs": [
    {
     "name": "stdout",
     "output_type": "stream",
     "text": [
      "Train Score(Top 10 features): 0.985781990521327\n",
      "Test Score(Top 10 features): 0.8151658767772512\n",
      "Model sensitivity: 0.6533333333333333\n",
      "Model specificity: 0.9044117647058824\n"
     ]
    },
    {
     "data": {
      "image/png": "[encoded data removed]",
      "text/plain": [
       "<Figure size 504x504 with 2 Axes>"
      ]
     },
     "metadata": {},
     "output_type": "display_data"
    }
   ],
   "source": [
    "n=X_train.shape[0]\n",
    "p=X_train.shape[1]\n",
    "X_train_red = np.zeros((n,p))\n",
    "for ind in index10:\n",
    "    X_train_red[:,ind] = X_train[:,ind]\n",
    "clf_red = RandomForestClassifier()\n",
    "clf_red.fit(X_train_red,y_train)\n",
    "print('Train Score(Top 10 features):',clf_red.score(X_train,y_train))\n",
    "print('Test Score(Top 10 features):',clf_red.score(X_test,y_test))\n",
    "\n",
    "#Confusion matrix\n",
    "cm = metrics.confusion_matrix(y_test,clf_red.predict(X_test))\n",
    "plt.figure(figsize=(7,7))\n",
    "plt.imshow(cm, cmap='cool')\n",
    "plt.title('Confusion matrix Random Forest Classifier,\\n simplified model')\n",
    "plt.xlabel('Raunverulegt gildi')\n",
    "plt.ylabel('Metið gildi')\n",
    "plt.xticks([0,1])\n",
    "plt.yticks([0,1])\n",
    "plt.colorbar()\n",
    "n = cm.shape[0]\n",
    "p = cm.shape[1]\n",
    "blabb = ['True negative','False positive','False negative','True positive']\n",
    "ind=0\n",
    "for i in range(n):\n",
    "    for j in range(p):        \n",
    "        plt.annotate(str(cm[i,j]),xy=(i,j), \n",
    "                     horizontalalignment='center', verticalalignment='center')\n",
    "        plt.annotate(blabb[ind],xy=(i,j+0.1), horizontalalignment='center'\n",
    "                     , verticalalignment='center')\n",
    "        ind=ind+1\n",
    "        \n",
    "sens = cm[1,1]/(cm[1,1] + cm[1,0])\n",
    "spec = cm[0,0]/(cm[0,0] + cm[0,1])\n",
    "\n",
    "print('Model sensitivity:', sens)\n",
    "print('Model specificity:', spec)"
   ]
  },
  {
   "cell_type": "markdown",
   "metadata": {},
   "source": [
    "Þá sjáum við að *sensitivity* er $\\frac{\\text{TP}}{\\text{TP+FN}} =0.6533$ og *specificity* er $\\frac{\\text{TN}}{\\text{TN+FP}} = 0.9044$"
   ]
  },
  {
   "cell_type": "markdown",
   "metadata": {},
   "source": [
    "3\\. [40 points] In this problem you will construct a predictive model for Telemarketing. The data comes from a telemarketing campaign in Portugal where the goal was to get clients to subscribe to long-term savings deposits. The predictive model is to be used to identify customers that are likely to subscribe, based on personal information, economic indicators, whether the client has been contacted before etc. This should make the campaign more effective and reduce marketing costs.\n",
    "\n",
    "The data is in file `bank-additional-full.csv` with a brief description in `bank-additional-names.txt`. The data contains a mixture of continuous and categorical features, with categorical data in text format. Some preprocessing is therefore needed before you can use it with scikit-learn algorithms.\n",
    "\n",
    "The data is time ordered which means that randomly splitting it into training and test sets amounts to peeking into the future and will provide too optimistic estimates of model performance. This is therefore not a suitable evaluation strategy. In situations like this, one uses historical data to train a model and predicts data from the current period. To simulate this scenario you will use the most recent (last) 4000 samples for testing and everything else for training.\n",
    "\n",
    "Train a Random Forests or Extra Trees classifier on the training set and evaluate it on the test set using an appropriate performance metric. The selection of metric should take into account whether the classes are balanced or not, as well as the goal of the prediction task. Do you think your model would be useful in practice? Why or why not?\n",
    "\n",
    "*Comments*:\n",
    "\n",
    "1) This is a somewhat open ended problem. There is no single correct answer.\n",
    "\n",
    "2) The data set is described in some detail here:\n",
    "https://archive.ics.uci.edu/ml/datasets/bank+marketing\n",
    "and a previous attempt at predictive modeling in: https://www.sciencedirect.com/science/article/pii/S016792361400061X\n",
    "\n",
    "3) To convert the data into a matrix format suitable for scikit-learn, it is probably easiest to use the Python Data Analysis Library (pandas) package. You load the data using\n",
    "\n",
    "`import pandas as pd\n",
    "bank_df=pd.read_csv('bank-additional-full.csv',sep=';')`\n",
    "\n",
    "You can iterate over the features using e.g.\n",
    "\n",
    "`for col in bank_df.columns:\n",
    "    if bank_df[col].dtype == object:\n",
    "        print(\"Categorical: \",col)\n",
    "    else:\n",
    "        print(\"Numerical: \", col)`\n",
    "\n",
    "The output variable (`y`) is 1 if a customer subscribes and 0 otherwise. \n",
    "\n",
    "Start by using only the numerical data. Then add the categorical data gradually. More data does not always help.\n",
    "\n",
    "The simplest conversion of categories to integers is called label encoding. In pandas:\n",
    "\n",
    "`bank_df['y']=bank_df['y'].astype('category')\n",
    "bank_df['y']=bank_df['y'].cat.codes\n",
    "y=bank_df['y'].values\n",
    "bank_df=bank_df.drop('y',axis=1) # Remove output variable`\n",
    "\n",
    "or using scikit-learn instead:\n",
    "\n",
    "`from sklearn.preprocessing import LabelBinarizer\n",
    "lb = LabelBinarizer()\n",
    "y = lb.fit_transform(bank_df['y'])[:,0]`\n",
    "\n",
    "Label encoding of a feature assumes that the feature values have a natural ordering (are ordinal). This has some drawbacks as detailed in the lecture notes and one-hot-encoding is generally preferred. This is most conveniently done by using `pd.get_dummies` with `drop_first=True`. For this particular data set, direct application of one-hot-encoding does not necessarily improve performance.\n",
    "\n",
    "4) In addition to `sklearn.metrics.confusion_matrix` which can be used to derive sensitivity, specificity and accuracy, the `sklearn.metrics.classification_report` class provides performance metrics called precision recall and F-score (see Wikipedia for details)."
   ]
  },
  {
   "cell_type": "markdown",
   "metadata": {},
   "source": [
    "Byrjum á að nota einungis þá dálka sem innihalda tölur. Ég ákvað að nota bæði RandomForestClassifier og ExtraTreesClassifier til að bera saman ásamt því að ég athuga nákvæmnina 100 sinnum og skila svo meðal-nákvæmninni."
   ]
  },
  {
   "cell_type": "code",
   "execution_count": 99,
   "metadata": {},
   "outputs": [
    {
     "name": "stdout",
     "output_type": "stream",
     "text": [
      "Mean random forest test score: 0.618015\n",
      "Mean extra trees test score: 0.6332425\n"
     ]
    }
   ],
   "source": [
    "import pandas as pd\n",
    "from sklearn.ensemble import ExtraTreesClassifier\n",
    "from sklearn.ensemble import RandomForestClassifier\n",
    "bank_df=pd.read_csv('bank-additional-full.csv',sep=';')\n",
    "\n",
    "y = bank_df['y']\n",
    "for col in bank_df.columns: \n",
    "    if bank_df[col].dtype == object:  \n",
    "        bank_df = bank_df.drop(columns=[col])\n",
    "    \n",
    "d = {'no':0,'yes':1}\n",
    "y = y.replace(d)\n",
    "\n",
    "X_train = bank_df[0:-4000]\n",
    "y_train = y[0:-4000]\n",
    "X_test = bank_df[-4000:]\n",
    "y_test = y[-4000:]\n",
    "\n",
    "\n",
    "maxiter=100\n",
    "clf_score=np.zeros(maxiter)\n",
    "trees_score=np.zeros(maxiter)\n",
    "trees_sc_score=np.zeros(maxiter)\n",
    "for i in range(maxiter):\n",
    "    clf = RandomForestClassifier()    \n",
    "    trees = ExtraTreesClassifier()\n",
    "    #Fit the training data\n",
    "    clf.fit(X_train,y_train)\n",
    "    trees.fit(X_train,y_train)\n",
    "    #check the scores\n",
    "    clf_score[i] = clf.score(X_test,y_test)\n",
    "    trees_score[i] = trees.score(X_test,y_test)\n",
    "    \n",
    "\n",
    "print('Mean random forest test score:',np.mean(clf_score))\n",
    "\n",
    "print('Mean extra trees test score:', np.mean(trees_score))"
   ]
  },
  {
   "cell_type": "code",
   "execution_count": 104,
   "metadata": {},
   "outputs": [
    {
     "name": "stdout",
     "output_type": "stream",
     "text": [
      "hlutfall fólks í training data sem skráði sig: 0.07489\n",
      "hlutfall fólks í testing data sem skráði sig:  0.46375\n"
     ]
    }
   ],
   "source": [
    "print('hlutfall fólks í training data sem skráði sig:',\n",
    "      np.round(sum(y_train)/len(y_train),5))\n",
    "print('hlutfall fólks í testing data sem skráði sig: ',\n",
    "      np.round(sum(y_test)/len(y_test),5))"
   ]
  },
  {
   "cell_type": "markdown",
   "metadata": {},
   "source": [
    "Við sjáum nú að training data og testing data eru biased á þann hátt að fólkið í testing data er mikið duglegra að skrá sig. Þetta getur stuðlað að því að við fáum þó nokkuð mörg false negatives í testing data sem er mjög slæmt. Þetta þýðir að ef það er einungis hringt í það fólk sem líkanið segir að muni kaupa að þá eru margir viðskiptavinir sem myndu kaupa skildir útundan.\n",
    "Við viljum þá hámarka *sensitivity*"
   ]
  },
  {
   "cell_type": "code",
   "execution_count": 101,
   "metadata": {},
   "outputs": [
    {
     "name": "stdout",
     "output_type": "stream",
     "text": [
      "Model sensitivity: 0.24797843665768193\n",
      "Model specificity: 0.924941724941725\n"
     ]
    },
    {
     "data": {
      "image/png": "[encoded data removed]",
      "text/plain": [
       "<Figure size 504x504 with 2 Axes>"
      ]
     },
     "metadata": {},
     "output_type": "display_data"
    }
   ],
   "source": [
    "#Confusion matrix á síðustu ítrun, gefur ágætis mynd.\n",
    "cm = metrics.confusion_matrix(y_test,clf.predict(X_test))\n",
    "plt.figure(figsize=(7,7))\n",
    "plt.imshow(cm, cmap='cool')\n",
    "plt.title('Confusion matrix Random Forest Classifier')\n",
    "plt.xlabel('Raunverulegt gildi')\n",
    "plt.ylabel('Metið gildi')\n",
    "plt.xticks([0,1])\n",
    "plt.yticks([0,1])\n",
    "plt.colorbar()\n",
    "n = cm.shape[0]\n",
    "p = cm.shape[1]\n",
    "blabb = ['True negative','False positive','False negative','True positive']\n",
    "ind=0\n",
    "for i in range(n):\n",
    "    for j in range(p):        \n",
    "        plt.annotate(str(cm[i,j]),xy=(i,j), \n",
    "                     horizontalalignment='center', verticalalignment='center')\n",
    "        plt.annotate(blabb[ind],xy=(i,j+0.1), horizontalalignment='center'\n",
    "                     , verticalalignment='center')\n",
    "        ind=ind+1\n",
    "        \n",
    "sens = cm[1,1]/(cm[1,1] + cm[1,0])\n",
    "spec = cm[0,0]/(cm[0,0] + cm[0,1])\n",
    "\n",
    "print('Model sensitivity:', sens)\n",
    "print('Model specificity:', spec)"
   ]
  },
  {
   "cell_type": "markdown",
   "metadata": {},
   "source": [
    "Fáum mjög lágt *sensitivity* sem gefur til kynna að þetta sé ekki góð leið til að meta hvort eigi að hringja í fólk"
   ]
  },
  {
   "cell_type": "code",
   "execution_count": 105,
   "metadata": {},
   "outputs": [
    {
     "name": "stdout",
     "output_type": "stream",
     "text": [
      "Mean extra trees test score:(one-hot-encoding) 0.58363\n"
     ]
    }
   ],
   "source": [
    "#Bætum nú við öllum dálkum sem voru ekki notaðir í fyrri hluta:\n",
    "\n",
    "bank_df=pd.read_csv('bank-additional-full.csv',sep=';')\n",
    "\n",
    "\n",
    "bank_df = pd.get_dummies(bank_df, \n",
    "                         columns=[\"job\",\"marital\",\"education\",\"default\",\"housing\"])\n",
    "bank_df = pd.get_dummies(bank_df, columns=[\"loan\",\"contact\",\"month\",\"day_of_week\"])\n",
    "bank_df = pd.get_dummies(bank_df, columns=[\"poutcome\"])\n",
    "\n",
    "\n",
    "y = bank_df['y']\n",
    "bank_df = bank_df.drop(columns=[\"y\"])\n",
    "\n",
    "\n",
    "d = {'no':0,'yes':1}\n",
    "y = y.replace(d)\n",
    "\n",
    "\n",
    "X_train = bank_df[0:-4000]\n",
    "y_train = y[0:-4000]\n",
    "X_test = bank_df[-4000:]\n",
    "y_test = y[-4000:]\n",
    "\n",
    "maxiter=100\n",
    "trees_ex_score=np.zeros(maxiter)\n",
    "for i in range(maxiter):\n",
    "    trees_ex = ExtraTreesClassifier()\n",
    "    #Fit the training data\n",
    "    trees_ex.fit(X_train,y_train)\n",
    "    #check the scores    \n",
    "    trees_ex_score[i] = trees_ex.score(X_test,y_test)\n",
    "\n",
    "print('Mean extra trees test score:(one-hot-encoding)',\n",
    "      np.round(np.mean(trees_ex_score),5))\n",
    "\n"
   ]
  },
  {
   "cell_type": "code",
   "execution_count": 103,
   "metadata": {},
   "outputs": [
    {
     "name": "stdout",
     "output_type": "stream",
     "text": [
      "Model sensitivity: 0.15525606469002695\n",
      "Model specificity: 0.9342657342657342\n"
     ]
    },
    {
     "data": {
      "image/png": "[encoded data removed]",
      "text/plain": [
       "<Figure size 504x504 with 2 Axes>"
      ]
     },
     "metadata": {},
     "output_type": "display_data"
    }
   ],
   "source": [
    "#Confusion matrix á síðustu ítrun, gefur ágætis mynd.\n",
    "cm = metrics.confusion_matrix(y_test,trees_ex.predict(X_test))\n",
    "plt.figure(figsize=(7,7))\n",
    "plt.imshow(cm, cmap='cool')\n",
    "plt.title('Confusion matrix Random Forest Classifier \\n \n",
    "          all variables(one-hot-encoding)')\n",
    "plt.xlabel('Raunverulegt gildi')\n",
    "plt.ylabel('Metið gildi')\n",
    "plt.xticks([0,1])\n",
    "plt.yticks([0,1])\n",
    "plt.colorbar()\n",
    "n = cm.shape[0]\n",
    "p = cm.shape[1]\n",
    "blabb = ['True negative','False positive','False negative','True positive']\n",
    "ind=0\n",
    "for i in range(n):\n",
    "    for j in range(p):        \n",
    "        plt.annotate(str(cm[i,j]),xy=(i,j), \n",
    "                     horizontalalignment='center', verticalalignment='center')\n",
    "        plt.annotate(blabb[ind],xy=(i,j+0.1), horizontalalignment='center'\n",
    "                     , verticalalignment='center')\n",
    "        ind=ind+1\n",
    "        \n",
    "sens = cm[1,1]/(cm[1,1] + cm[1,0])\n",
    "spec = cm[0,0]/(cm[0,0] + cm[0,1])\n",
    "\n",
    "print('Model sensitivity:', sens)\n",
    "print('Model specificity:', spec)"
   ]
  },
  {
   "cell_type": "markdown",
   "metadata": {},
   "source": [
    "Þegar öllum gögnunum er bætt við fáum við enn verri niðurstöður heldur en þegar einungis tölulegu gögnin voru notuð. Fáum enn of mörg False negatives sem er mjög slæmt. "
   ]
  }
 ],
 "metadata": {
  "kernelspec": {
   "display_name": "Python 3",
   "language": "python",
   "name": "python3"
  },
  "language_info": {
   "codemirror_mode": {
    "name": "ipython",
    "version": 3
   },
   "file_extension": ".py",
   "mimetype": "text/x-python",
   "name": "python",
   "nbconvert_exporter": "python",
   "pygments_lexer": "ipython3",
   "version": "3.6.5"
  }
 },
 "nbformat": 4,
 "nbformat_minor": 2
}
