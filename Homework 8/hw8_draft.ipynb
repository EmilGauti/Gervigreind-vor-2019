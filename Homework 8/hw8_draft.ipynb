{
 "cells": [
  {
   "cell_type": "markdown",
   "metadata": {},
   "source": [
    "## REI602M Machine Learning - Homework 8 (**UNDER CONSTRUCTION!!!**)\n",
    "### Due: *Monday* 11.3.2019\n",
    "\n",
    "**Objectives**: Topic discovery with NMF, Image compression with PCA and NMF, Spectral clustering\n",
    "\n",
    "**Name**: Emil Gauti Friðriksson, **email: ** egf3@hi.is, **collaborators:** (if any)"
   ]
  },
  {
   "cell_type": "markdown",
   "metadata": {},
   "source": [
    "1\\. [*Topic discovery with NMF*, 40 points]. Here you will use non-negative matrix factorization (NMF) to analyze the content of tweets from Donald Trump. In particular, you will attempt to discover the main topics of his tweets by applying NMF to a document-term matrix derived from the tweets (or rather to a \"tweet-term\" matrix).\n",
    "\n",
    "The NMF approximates a non-negative $n \\times p$ matrix $X$ of rank $r$ with a rank $k \\leq r$ matrix such that\n",
    "\n",
    "$$\n",
    "X \\approx WH\n",
    "$$\n",
    "\n",
    "where $W$ is a $n \\times k$ matrix with $W_{ij} \\geq 0$ and $H$ is a $k \\times p$ matrix with $H_{ij} \\geq 0$. Provided that $k$ is appropriately chosen, the *weight matrix* $W$ and *coefficient matrix* $H$ can reveal interesting structures in the data. Column $j$ of $X$ is approximated with (see comment 1 below)\n",
    "\n",
    "$$\n",
    "X_{:,j} \\approx (WH)_{:,j} = H_{1j}W_{:,1} + H_{2j}W_{:,2} + \\ldots + H_{kj}W_{:,k}\n",
    "$$\n",
    "\n",
    "where the subscript $:,j$ denotes column $j$. The columns of $W$ in this context correspond to the main topics of Trump's tweets and column $j$ of $H$ contains information on how the topics are \"mixed\" together to form (approximately) column $j$ of $X$.\n",
    "\n",
    "a) Download all tweets by Trump from http://www.trumptwitterarchive.com/archive from the period 20.1.2017 (inauguration day) to present, omitting retweets, as a CSV file (approx. 5800 tweets). Create a tweet-term matrix using word counts (see below). For a given value of $k$, perform NMF on the matrix and list the words corresponding to the largest $H_{ij}$ values for columns $j=1,\\ldots,k$. You need to experiment with different values of $k$ (a.k.a. the *Trump-dimension*) to get interesting topic groupings. If $k$ is too low different topics will be mixed together, when $k$ gets large, the same subject will appear in multiple clusters. Report your results (c.a. 20 words on each topic) for the value of $k$ that you end up picking.\n",
    "\n",
    "b) Select two topics of \"interest\" (e.g. Trump's nemesis Hillary Clinton). Identify the corresponding columns in $W$ and list approx. 5 tweets using the largest $W$-values as indices. Does the content of the tweets match the selected topics?\n",
    "\n",
    "*Comments*:\n",
    "\n",
    "1) The $n \\times k$ matrix-vector product $y=Ax$ can be interpreted as a weighted sum of the columns of $A$,\n",
    "$$\n",
    "y=\n",
    "\\begin{array}{ccc}\n",
    "~\\mid &  & ~\\mid \\\\\n",
    "x_1 a_1 & + \\ldots + & x_k a_k \\\\\n",
    "~\\mid & & ~\\mid \\\\\n",
    "\\end{array}\n",
    "$$\n",
    "and matrix multiplication can be considered as multiple matrix-vector products.\n",
    "\n",
    "2) Use the NMF implementation in`from sklearn.decomposition.NMF`. You can use the Wikipedia data set from HW7 to test your NMF-based topic discovery code. Once you get convincing results, apply your code to the newly constructed tweet-term matrix.\n",
    "\n",
    "3) Use `sklearn.feature_extraction.text.CountVectorizer` to create the document-term matrix based on word counts from the raw tweets. This function performs tokenization, counting and normalization and removes stop words. Use the following parameter values `max_features=k`, `max_df=0.95` (remove words that occur in at least 95% of the documents), `min_df=2` (remove words that occur in fewer than two documents), `stop_words='english'`.\n",
    "\n",
    "4) Use `CountVectorizer.get_feature_names()` to get the list of words that were retained. Sidenote: Rare words are downplayed by the term-frequency encoding used here but they are often found to be informative. Therefore people often encode the text using term-frequency-inverse document frequency.\n",
    "\n",
    "5) Scikit's NMF function obtaines the factorization $X \\approx WH$ by minimizing the objective function $0.5||X - WH||_F^2$ (here $||A||_F$ denotes the Frobenius norm of a matrix $A$, $||A||_F = \\sqrt{\\sum_{i=1}^n \\sum_{j=1}^n A_{ij}^2}$. The NMF implementation provides means to regularize the solution via parameters `alpha` and `l1_ratio`. You may want to experiment with these parameters to see if you can improve the list of topics.\n",
    "\n",
    "6) The $H$ matrix is stored in `nmf.components_`\n",
    "\n",
    "7) The NMF is described briefly in section 14.6 of ESL. A more detailed account can be found in the original article\n",
    "http://www.columbia.edu/~jwp2128/Teaching/E4903/papers/nmf_nature.pdf"
   ]
  },
  {
   "cell_type": "code",
   "execution_count": 1,
   "metadata": {},
   "outputs": [
    {
     "name": "stdout",
     "output_type": "stream",
     "text": [
      "flokkur nr 1 : amp military repeal replace strong loves taxes women years borders vets going nation said work hard getting healthcare dems economy \n",
      "flokkur nr 2 : people country american want way years enemy come like coming going millions time working million laws let history know bad \n",
      "flokkur nr 3 : news fake media cnn just story don stories bad reporting new said dishonest enemy nbc good house like report time \n",
      "flokkur nr 4 : border wall security democrats want country crime don southern immigration stop need military drugs republicans laws dems mexico national open \n",
      "flokkur nr 5 : fbi collusion witch hunt hillary democrats russia clinton crooked campaign comey just russian mueller rigged election angry hoax dossier investigation \n",
      "flokkur nr 6 : president trump obama donald thank election campaign just administration did xi said russia american foxandfriends right day years china isis \n",
      "flokkur nr 7 : trade korea united china north states just deal good country years time tariffs countries dollars new year kim meeting long \n",
      "flokkur nr 8 : great america make state job thank honor doing today new governor military day congratulations endorsement senator night country healthcare meeting \n",
      "flokkur nr 9 : https thank today honor america american whitehouse welcome jobs join day national nation americans united families vote world minister melania \n",
      "flokkur nr 10 : big tax vote crime win jobs cuts military strong endorsement vets borders republicans senate total amendment loves republican house governor \n"
     ]
    }
   ],
   "source": [
    "from sklearn.decomposition import NMF\n",
    "from sklearn.feature_extraction.text import CountVectorizer\n",
    "import numpy as np\n",
    "def print_top_words(nmf,feature_names, n_top_words):\n",
    "    for nr, topic in enumerate(nmf.components_,1):\n",
    "        top_words_indx = topic.argsort()[:-n_top_words - 1:-1]\n",
    "        ordd = ''\n",
    "        for i in range(n_top_words):\n",
    "            ordd += feature_names[top_words_indx[i]]+' '\n",
    "        print('flokkur nr', nr, ':', ordd)\n",
    "\n",
    "\n",
    "data = np.genfromtxt('trump_tweets.CSV',encoding=\"utf-8\", delimiter=',',dtype=str,skip_header=1)\n",
    "k=10\n",
    "\n",
    "vectorizer = CountVectorizer(max_df=0.95,min_df=2, stop_words='english')\n",
    "X = vectorizer.fit_transform(data)#þessi gæji heldur utan um hve oft orðin koma fyrir\n",
    "\n",
    "nmf = NMF(n_components=k,init='random', random_state=0,alpha=.1, l1_ratio=.5).fit(X)\n",
    "\n",
    "\n",
    "feature_names = vectorizer.get_feature_names()\n",
    "\n",
    "\n",
    "print_top_words(nmf, feature_names, 20)"
   ]
  },
  {
   "cell_type": "markdown",
   "metadata": {},
   "source": [
    "**(b)**\n",
    "Ég vel flokkana sem mér sýnist tengjast **Border Wall**(flokkur nr. 4) og **Fake News**(flokkur nr. 3)"
   ]
  },
  {
   "cell_type": "code",
   "execution_count": 2,
   "metadata": {},
   "outputs": [
    {
     "name": "stdout",
     "output_type": "stream",
     "text": [
      "flokkur 3\n",
      "--------------------------------------------------\n",
      "tweet 1 : Google search results for “Trump News” shows only the viewing/reporting of Fake News Media. In other words they have it RIGGED for me &amp; others so that almost all stories &amp; news is BAD. Fake CNN is prominent. Republican/Conservative &amp; Fair Media is shut out. Illegal? 96% of.... \n",
      "\n",
      "tweet 2 : CNN and others in the Fake News Business keep purposely and inaccurately reporting that I said the “Media is the Enemy of the People.” Wrong! I said that the “Fake News (Media) is the Enemy of the People” a very big difference. When you give out false information - not good! \n",
      "\n",
      "tweet 3 : Google search results for “Trump News” shows only the viewing/reporting of Fake New Media. In other words they have it RIGGED for me &amp; others so that almost all stories &amp; news is BAD. Fake CNN is prominent. Republican/Conservative &amp; Fair Media  is shut out. Illegal?  96% of... \n",
      "\n",
      "tweet 4 : The Fake News refuses to talk about how Big and how Strong our BASE is. They show Fake Polls just like they report Fake News. Despite only negative reporting we are doing well - nobody is going to beat us. MAKE AMERICA GREAT AGAIN! \n",
      "\n",
      "tweet 5 : Last time I went to Davos the Fake News said I should not go there. This year because of the Shutdown I decided not to go and the Fake News said I should be there. The fact is that the people understand the media better than the media understands them! \n",
      "\n",
      "flokkur 4\n",
      "--------------------------------------------------\n",
      "tweet 1 : The most important way to stop gangs drugs human trafficking and massive crime is at our Southern Border. We need Border Security and as EVERYONE knows you can’t have Border Security without a Wall. The Drones &amp; Technology are just bells and whistles. Safety for America! \n",
      "\n",
      "tweet 2 : “Border Patrol Agents want the Wall.” Democrat’s say they don’t want the Wall (even though they know it is really needed) and they don’t want ICE. They don’t have much to campaign on do they? An Open Southern Border and the large scale crime that comes with such stupidity! \n",
      "\n",
      "tweet 3 : Have the Democrats finally realized that we desperately need Border Security and a Wall on the Southern Border. Need to stop Drugs Human TraffickingGang Members &amp; Criminals from coming into our Country. Do the Dems realize that most of the people not getting paid are Democrats? \n",
      "\n",
      "tweet 4 : The Border has been a big mess and problem for many years. At some point Schumer and Pelosi who are weak on Crime and Border security will be forced to do a real deal so easy that solves this long time problem. Schumer used to want Border security - now he’ll take Crime! \n",
      "\n",
      "tweet 5 : Statement by me last night in Florida: “Honestly I don’t think the Democrats want to make a deal. They talk about DACA but they don’t want to help..We are ready willing and able to make a deal but they don’t want to. They don’t want security at the border they don’t want..... \n",
      "\n"
     ]
    }
   ],
   "source": [
    "W = nmf.transform(X)\n",
    "bw_fn = [2,3]\n",
    "n_tweets = 5\n",
    "for ind in bw_fn:\n",
    "    weight = W[:,ind]\n",
    "    top_tweets = np.argsort(weight)[::-1]\n",
    "    print('flokkur', ind+1)\n",
    "    print('-'*50)\n",
    "    for i in range(n_tweets):\n",
    "        print('tweet',i+1,':',data[top_tweets[i]],'\\n')"
   ]
  },
  {
   "cell_type": "markdown",
   "metadata": {},
   "source": [
    "2\\. [*Image compresssion with PCA and NMF*, 30 points] Fit a non-negative matrix factorization model to the zero-digits in the subset of the MNIST database from the Jupyter workbook `v07_pca_tsne_kmeans` (download from Piazza). Perform the following using 25 basis elements in the factorization:\n",
    "\n",
    "i) Display the $W$ matrix as an image (see Fig. 14.33 in ESL) as well as an image for the part of $H$ that corresponds to the first image in the data set.\n",
    "\n",
    "ii)  Compare a reconstruction of the first image in the data set with the original image. What compression ratio is achieved with 25 basis elements?\n",
    "\n",
    "b) Repeat the analysis in a using 24-component (plus mean) PCA model (see Fig. 14.33 in ESL). Compare briefly with the results in a)\n",
    "\n",
    "*Comments*:\n",
    "\n",
    "1) Use the NMF implementation in `sklearn.decomposition.NMF`. The *columns* of the input matrix should contain the pixel values for each image (this is opposed to how we treated image data earlier). The `fit_transform` function returns the $W$ matrix and the attribute `components_` contains the $H$ matrix.\n",
    "\n",
    "2) When reconstructing images you may need to \"clip\" the data, i.e. set pixel values above 1.0 to 1.\n",
    "\n",
    "3) Many elements of the $W$ matrix will be zero and when you use a gray-scale color map, these elements will show up as black. You might therefore want to represent positive values with black and zeros with white.\n",
    "\n",
    "4) Use scikit to perform PCA."
   ]
  },
  {
   "cell_type": "markdown",
   "metadata": {},
   "source": [
    "**(a-i)**"
   ]
  },
  {
   "cell_type": "code",
   "execution_count": 3,
   "metadata": {},
   "outputs": [],
   "source": [
    "import numpy as np\n",
    "import matplotlib.pyplot as plt\n",
    "from sklearn.preprocessing import StandardScaler\n",
    "\n",
    "# Load MNIST dataset (small subset)\n",
    "X = np.loadtxt(\"data/mnist2500_X.txt\")"
   ]
  },
  {
   "cell_type": "code",
   "execution_count": 4,
   "metadata": {},
   "outputs": [],
   "source": [
    "from sklearn.decomposition import NMF\n",
    "k=25\n",
    "nmf = NMF(n_components=k,init='random', random_state=0,alpha=.1, l1_ratio=.5).fit(X)\n",
    "W = nmf.transform(X)\n",
    "H = nmf.components_"
   ]
  },
  {
   "cell_type": "code",
   "execution_count": 5,
   "metadata": {},
   "outputs": [
    {
     "name": "stdout",
     "output_type": "stream",
     "text": [
      "[[0.64621515 0.45499507 1.60480418 0.1167176  0.20915763]\n",
      " [0.55833112 0.         0.13145926 0.1174982  0.        ]\n",
      " [0.05553359 0.1727755  0.18973163 0.         0.        ]\n",
      " [0.31424431 0.2661588  0.         0.10131369 0.        ]\n",
      " [0.17392044 0.12424422 0.35194736 0.         0.00441115]]\n"
     ]
    },
    {
     "data": {
      "image/png": "[encoded data removed]",
      "text/plain": [
       "<Figure size 432x288 with 1 Axes>"
      ]
     },
     "metadata": {},
     "output_type": "display_data"
    },
    {
     "data": {
      "image/png": "[encoded data removed]",
      "text/plain": [
       "<Figure size 720x720 with 25 Axes>"
      ]
     },
     "metadata": {},
     "output_type": "display_data"
    }
   ],
   "source": [
    "#Prentum út og teiknum W-fylkið sem sýnir hvernig fyrsta myndin er uppröðuð\n",
    "print(W[0,:].reshape(5,5))\n",
    "plt.imshow(W[0,:].reshape(5,5),interpolation='none',cmap='gray_r')\n",
    "plt.title('W-fylki fyrstu tölunnar(5)')\n",
    "\n",
    "#Prentum út H-fylkið\n",
    "fig, ax = plt.subplots(5, 5, sharex='col', sharey='row')\n",
    "fig.subplots_adjust(hspace=0.2, wspace=0.1)\n",
    "fig.set_figheight(10)\n",
    "fig.set_figwidth(10)\n",
    "fig.suptitle('H-fylki út frá NMF',fontsize=14, y=0.93)\n",
    "for i in range(5):\n",
    "    for j in range(5):\n",
    "        ax[i, j].imshow(1-H[j+5*i].reshape(28,28),\n",
    "                        interpolation='none',cmap='gray')\n",
    "\n",
    "plt.show()"
   ]
  },
  {
   "cell_type": "markdown",
   "metadata": {},
   "source": [
    "**(a-ii)**"
   ]
  },
  {
   "cell_type": "code",
   "execution_count": 6,
   "metadata": {},
   "outputs": [
    {
     "data": {
      "image/png": "[encoded data removed]",
      "text/plain": [
       "<Figure size 432x288 with 1 Axes>"
      ]
     },
     "metadata": {},
     "output_type": "display_data"
    },
    {
     "data": {
      "text/plain": [
       "Text(0.5,1,'Reconstructed image')"
      ]
     },
     "execution_count": 6,
     "metadata": {},
     "output_type": "execute_result"
    },
    {
     "data": {
      "image/png": "[encoded data removed]",
      "text/plain": [
       "<Figure size 432x288 with 1 Axes>"
      ]
     },
     "metadata": {},
     "output_type": "display_data"
    }
   ],
   "source": [
    "#Original image\n",
    "mynd1 = X[0,:]\n",
    "mynd1 = np.reshape(mynd1,(28,28))\n",
    "plt.imshow(mynd1.T,interpolation='none',cmap='gray')\n",
    "plt.title('Original Image')\n",
    "plt.show()\n",
    "\n",
    "#Reconstructed image\n",
    "mynd2=np.zeros((1,784))       \n",
    "for i in range(784):\n",
    "    mynd2[0,i] = np.minimum(1,W[0,:]@H[:,i])\n",
    "mynd2 = np.reshape(mynd2,(28,28))\n",
    "plt.imshow(mynd2.T,interpolation='none',cmap='gray')\n",
    "plt.title('Reconstructed image')\n",
    "\n"
   ]
  },
  {
   "cell_type": "code",
   "execution_count": 7,
   "metadata": {},
   "outputs": [
    {
     "name": "stdout",
     "output_type": "stream",
     "text": [
      "15680000 bytes\n",
      "156800 bytes\n",
      "500000 bytes\n",
      "Compression ratio: 0.04188775510204082\n"
     ]
    }
   ],
   "source": [
    "print(\"%d bytes\" % (X.nbytes))\n",
    "print(\"%d bytes\" % (H.nbytes))\n",
    "print(\"%d bytes\" % (W.nbytes))\n",
    "\n",
    "compr_ratio = (H.nbytes + W.nbytes)/X.nbytes\n",
    "print('Compression ratio:', compr_ratio)"
   ]
  },
  {
   "cell_type": "markdown",
   "metadata": {},
   "source": [
    "To store all these pictures in compressed format it only requires the $H$ matrix and 2500 small $5\\times 5$ matrices stored within $W$. This takes a lot less storage than storing 2500 $28\\times 28$ images. As we can see from the memory sizes of the arrays, the compression ratio $\\frac{M_{compressed}}{M_{original}} \\approx 0.042 $ where $M_{compressed}$ is the memory required to store both $W$ and $H$ and $M_{original}$ is the memory required to store all the 2500 pictures"
   ]
  },
  {
   "cell_type": "markdown",
   "metadata": {},
   "source": [
    "**(b-i)**"
   ]
  },
  {
   "cell_type": "code",
   "execution_count": null,
   "metadata": {},
   "outputs": [],
   "source": [
    "#Repeat the analysis in a using 24-component (plus mean) PCA model (see Fig. 14.33 in ESL). Compare briefly with the results in a)\n",
    "\n",
    "# Principal component analysis and t-SNE used to examine\n",
    "# the MNIST dataset of handwritten digits\n",
    "\n",
    "import numpy as np\n",
    "import matplotlib.pyplot as plt\n",
    "from sklearn.preprocessing import StandardScaler\n",
    "\n",
    "# Load MNIST dataset (small subset)\n",
    "X = np.loadtxt(\"data/mnist2500_X.txt\")\n",
    "labels = np.loadtxt(\"data/mnist2500_labels.txt\")\n",
    "\n",
    "# Scale data to have zero mean, scaling individual features \n",
    "# is not appropriate for image data\n",
    "Xsc = StandardScaler(with_std=False).fit_transform(X)\n",
    "\n",
    "def scatter_plot(ypred, labels, xlabel='', ylabel=''):\n",
    "    # Create a scatter plot with class labels as a legend\n",
    "    #plt.figure(figsize=(7,5))\n",
    "    cmap=plt.get_cmap(\"Paired\").colors[0:10]\n",
    "    for cls in range(0,10):\n",
    "        plt.scatter(ypred[labels==cls,0],ypred[labels==cls,1],s=10,c=cmap[cls],label=\"{}\".format(cls))\n",
    "    plt.legend()\n",
    "    plt.xlabel(xlabel)\n",
    "    plt.ylabel(ylabel)\n",
    "    plt.show()"
   ]
  },
  {
   "cell_type": "code",
   "execution_count": null,
   "metadata": {},
   "outputs": [],
   "source": [
    "# 2D projection using PCA\n",
    "from sklearn.decomposition import PCA\n",
    "\n",
    "pca = PCA(n_components=2)\n",
    "pca.fit(Xsc)\n",
    "ypred = pca.transform(Xsc)\n",
    "\n",
    "scatter_plot(ypred, labels, xlabel='PCA1',ylabel='PCA2')"
   ]
  },
  {
   "cell_type": "markdown",
   "metadata": {},
   "source": [
    "3\\. [*Spectral clustering*] Under construction!"
   ]
  }
 ],
 "metadata": {
  "kernelspec": {
   "display_name": "Python 3",
   "language": "python",
   "name": "python3"
  },
  "language_info": {
   "codemirror_mode": {
    "name": "ipython",
    "version": 3
   },
   "file_extension": ".py",
   "mimetype": "text/x-python",
   "name": "python",
   "nbconvert_exporter": "python",
   "pygments_lexer": "ipython3",
   "version": "3.6.5"
  }
 },
 "nbformat": 4,
 "nbformat_minor": 2
}
