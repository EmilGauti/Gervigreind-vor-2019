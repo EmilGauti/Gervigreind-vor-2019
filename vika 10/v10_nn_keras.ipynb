{
 "cells": [
  {
   "cell_type": "markdown",
   "metadata": {},
   "source": [
    "## Vika 10 - Tauganet í Keras (Tensorflow)\n",
    "\n",
    "Sjá athugasemdir á Piazza um uppsetningu á Tensorflow."
   ]
  },
  {
   "cell_type": "markdown",
   "metadata": {},
   "source": [
    "### MNIST gagnasafn úr heimaverkefni 9"
   ]
  },
  {
   "cell_type": "code",
   "execution_count": null,
   "metadata": {},
   "outputs": [],
   "source": [
    "# Load data\n",
    "\n",
    "import numpy as np\n",
    "import tensorflow as tf\n",
    "\n",
    "def readData(images_file, labels_file):\n",
    "    x = np.loadtxt(images_file, delimiter=',')\n",
    "    y = np.loadtxt(labels_file, delimiter=',')\n",
    "    return x, y\n",
    "\n",
    "np.random.seed(100)\n",
    "trainData, trainLabels = readData('../heimaverkefni/hw9/images_train.csv',\n",
    "                                  '../heimaverkefni/hw9/labels_train.csv')\n",
    "p = np.random.permutation(60000)\n",
    "trainData = trainData[p,:]\n",
    "\n",
    "# One-hot encoding of class labels\n",
    "trainLabels = tf.keras.utils.to_categorical(trainLabels, num_classes=10)\n",
    "trainLabels = trainLabels[p,:]\n",
    "\n",
    "# Take 10000 training samples aside for validation (a.k.a. \"dev\" set)\n",
    "devData = trainData[0:10000,:]\n",
    "devLabels = trainLabels[0:10000,:]\n",
    "trainData = trainData[10000:,:]\n",
    "trainLabels = trainLabels[10000:,:]\n",
    "\n",
    "# Remove mean from data and scale it to speed up training\n",
    "mean = np.mean(trainData)\n",
    "std = np.std(trainData) # a scalar value\n",
    "trainData = (trainData - mean) / std\n",
    "devData = (devData - mean) / std\n",
    "\n",
    "testData, testLabels = readData('../heimaverkefni/hw9/images_test.csv',\n",
    "                                '../heimaverkefni/hw9/labels_test.csv')\n",
    "testLabels = tf.keras.utils.to_categorical(testLabels, num_classes=10)\n",
    "testData = (testData - mean) / std\n",
    "\n",
    "# Convert data to 32-bit floating point representation\n",
    "# This saves memory and speeds up training of deep networks\n",
    "# and is *essential* for utilizing GPUs for training.\n",
    "trainData = trainData.astype('float32')\n",
    "testData = testData.astype('float32')"
   ]
  },
  {
   "cell_type": "markdown",
   "metadata": {},
   "source": [
    "### Keras útfærsla á neti úr heimaverkefni 9.3\n",
    "\n",
    "Keras er \"high-level\" forritaskil (API) fyrir TensorFlow ofl. tauganetapakka.\n",
    "\n",
    "Eitt hulið lag með 300 nóðum, sigmoid virkjunarfalli og \"categorical cross entropy\" markfalli (hliðstæða logistic regression tapfalls fyrir marga flokka)."
   ]
  },
  {
   "cell_type": "code",
   "execution_count": null,
   "metadata": {},
   "outputs": [],
   "source": [
    "from tensorflow.python.keras.models import Sequential\n",
    "from tensorflow.python.keras.layers import Dense, Activation\n",
    "\n",
    "num_classes=10\n",
    "num_epochs=30\n",
    "batch_size=1000\n",
    "\n",
    "model = Sequential([\n",
    "    Dense(300, \n",
    "    input_dim=trainData.shape[1]),\n",
    "    Activation('sigmoid'),\n",
    "    Dense(num_classes),\n",
    "    Activation('softmax'),\n",
    "])\n",
    "model.summary()\n",
    "\n",
    "model.compile(optimizer='sgd', # Note: Default parameters differ from those on homework #9\n",
    "              loss='categorical_crossentropy',\n",
    "              metrics=['accuracy'])\n",
    "\n",
    "history=model.fit(trainData, trainLabels, \n",
    "                  epochs=num_epochs, batch_size=batch_size,\n",
    "                  verbose=1, validation_data=(devData, devLabels))\n",
    "\n",
    "score = model.evaluate(testData, testLabels, verbose=0)\n",
    "print('Test accuracy:', score[1])"
   ]
  },
  {
   "cell_type": "markdown",
   "metadata": {},
   "source": [
    "## Tapfall og flokkunarskekkja í þjálfun\n",
    "\n",
    "Skoðum hvernig tapfall (e. loss function) breytist á meðan þjálfun stendur.\n",
    "\n",
    "\"[Loss functions] are a window to your model's heart\" - A. Karpathy\n",
    "https://lossfunctions.tumblr.com/"
   ]
  },
  {
   "cell_type": "code",
   "execution_count": null,
   "metadata": {},
   "outputs": [],
   "source": [
    "# Training history\n",
    "import matplotlib.pyplot as plt\n",
    "plt.plot(history.history['acc'])\n",
    "plt.plot(history.history['val_acc'])\n",
    "plt.title('Single hidden layer with 300 neurons')\n",
    "plt.ylabel('accuracy')\n",
    "plt.xlabel('epoch')\n",
    "plt.legend(['train', 'validation'])\n",
    "plt.show()\n",
    "\n",
    "plt.plot(history.history['loss'])\n",
    "plt.plot(history.history['val_loss'])\n",
    "plt.ylabel('loss')\n",
    "plt.xlabel('epoch')\n",
    "plt.legend(['train', 'validation'])\n",
    "plt.show()"
   ]
  },
  {
   "cell_type": "markdown",
   "metadata": {},
   "source": [
    "## Tauganet með 2 huldum lögum\n",
    "\n",
    "512 nóður í hverju lagi og ReLU virkjunarföll."
   ]
  },
  {
   "cell_type": "code",
   "execution_count": null,
   "metadata": {},
   "outputs": [],
   "source": [
    "from tensorflow.python.keras.layers import Dropout\n",
    "from tensorflow.python.keras.optimizers import RMSprop\n",
    "\n",
    "batch_size = 128\n",
    "num_epochs = 10 # Increase to 30 to get 98% test accuracy\n",
    "\n",
    "model = Sequential()\n",
    "model.add(Dense(512, activation='relu', input_dim=trainData.shape[1]))\n",
    "model.add(Dropout(0.2))\n",
    "model.add(Dense(512, activation='relu'))\n",
    "model.add(Dropout(0.2))\n",
    "model.add(Dense(num_classes, activation='softmax'))\n",
    "\n",
    "model.summary()\n",
    "\n",
    "model.compile(loss='categorical_crossentropy',\n",
    "              optimizer=RMSprop(),\n",
    "              metrics=['accuracy'])\n",
    "\n",
    "history = model.fit(trainData, trainLabels,\n",
    "                    batch_size=batch_size,\n",
    "                    epochs=num_epochs,\n",
    "                    verbose=1,\n",
    "                    validation_data=(devData, devLabels))\n",
    "score = model.evaluate(testData, testLabels, verbose=0)\n",
    "print('Test loss:', score[0])\n",
    "print('Test accuracy:', score[1])"
   ]
  },
  {
   "cell_type": "code",
   "execution_count": null,
   "metadata": {},
   "outputs": [],
   "source": [
    "# Training history\n",
    "import matplotlib.pyplot as plt\n",
    "plt.plot(history.history['acc'])\n",
    "plt.plot(history.history['val_acc'])\n",
    "plt.ylabel('accuracy')\n",
    "plt.xlabel('epoch')\n",
    "plt.title('Two hidden layers with 512 nerons and ReLu')\n",
    "plt.legend(['train', 'validation'])\n",
    "plt.show()\n",
    "\n",
    "plt.plot(history.history['loss'])\n",
    "plt.plot(history.history['val_loss'])\n",
    "plt.ylabel('loss')\n",
    "plt.xlabel('epoch')\n",
    "plt.legend(['train', 'validation'])\n",
    "plt.show()"
   ]
  }
 ],
 "metadata": {
  "kernelspec": {
   "display_name": "Python 3",
   "language": "python",
   "name": "python3"
  },
  "language_info": {
   "codemirror_mode": {
    "name": "ipython",
    "version": 3
   },
   "file_extension": ".py",
   "mimetype": "text/x-python",
   "name": "python",
   "nbconvert_exporter": "python",
   "pygments_lexer": "ipython3",
   "version": "3.6.3"
  }
 },
 "nbformat": 4,
 "nbformat_minor": 2
}
