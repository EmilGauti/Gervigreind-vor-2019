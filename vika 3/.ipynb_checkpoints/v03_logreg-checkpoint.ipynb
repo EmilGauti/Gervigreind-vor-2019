{
 "cells": [
  {
   "cell_type": "code",
   "execution_count": null,
   "metadata": {
    "collapsed": true
   },
   "outputs": [],
   "source": [
    "# Logistic regression with stochastic gradient descent\n",
    "import numpy as np\n",
    "import math\n",
    "\n",
    "def g(z):\n",
    "    return 1/(1+math.exp(-z)) # Sigmoid function\n",
    "\n",
    "def logreg_sgd(X,y,alpha=0.01,max_epochs=100):\n",
    "    # Naive implementation of SGD\n",
    "    # Fixed number of iterations with a fixed step-size is not ideal\n",
    "    n,p = X.shape\n",
    "    theta=np.zeros(p)\n",
    "    for iter in range(max_epochs*n):\n",
    "        i=np.random.randint(n)\n",
    "        theta_old = theta\n",
    "        theta = theta + alpha*(y[i] - g(theta.dot(X[i,:])))*X[i,:]\n",
    "    return theta"
   ]
  },
  {
   "cell_type": "code",
   "execution_count": null,
   "metadata": {},
   "outputs": [],
   "source": [
    "# Test the SGD inplementaion on an artificial 2D data set\n",
    "\n",
    "from sklearn.datasets import make_classification\n",
    "import matplotlib.pyplot as plt\n",
    "np.set_printoptions(suppress=True, precision=4) # Formatting of output\n",
    "\n",
    "# Create an artificial 2D data set using a function from scikit-learn\n",
    "X, y = make_classification(n_features=2, n_redundant=0, n_informative=2,\n",
    "                        random_state=1, n_clusters_per_class=1, class_sep=0.5)\n",
    "n=len(y)\n",
    "X=np.c_[np.ones(n), X] # Add intercept term\n",
    "print('Number of training points:', n)\n",
    "\n",
    "theta=logreg_sgd(X, y)\n",
    "print(\"Logistic regression coeffs=\", theta)\n",
    "\n",
    "# Visualize the data and draw the decision boundary (points that satisfy θ'x = 0)\n",
    "plt.scatter(X[:,1],X[:,2], c=y)\n",
    "xtmp=np.array([min(X[:,1]),max(X[:,1])])\n",
    "plt.plot(xtmp, -(theta[0]+theta[1]*xtmp)/theta[2])\n",
    "plt.ylim(min(X[:,2]),max(X[:,2]))\n",
    "plt.xlabel('$X_1$')\n",
    "plt.ylabel('$X_2$')\n",
    "plt.show()"
   ]
  },
  {
   "cell_type": "code",
   "execution_count": null,
   "metadata": {},
   "outputs": [],
   "source": [
    "# The Wisconsin breast cancer data set has 569 examples of benign and malignant (cancerous) tumors\n",
    "# There are 30 features (inputs) including patient age and quantities derived from tissue samples\n",
    "# (e.g.tumor size)\n",
    "# https://archive.ics.uci.edu/ml/datasets/Breast+Cancer+Wisconsin+(Diagnostic)\n",
    "import numpy as np\n",
    "from sklearn.datasets import load_breast_cancer # Classic benchmark data set\n",
    "from sklearn.model_selection import train_test_split\n",
    "from sklearn.metrics import confusion_matrix\n",
    "\n",
    "X, y = load_breast_cancer(True)\n",
    "print(\"Total number of benign samples: \", sum(y==1))\n",
    "print(\"Total number of malignant samples: \", sum(y==0))\n",
    "\n",
    "# Split randomly into training and test sets\n",
    "X_train, X_test, y_train, y_test = train_test_split(X, y, test_size=0.33, random_state=42)\n",
    "n_train=len(y_train)\n",
    "n_test=len(y_test)\n",
    "\n",
    "# Train a logistic regression classifier\n",
    "X_train=np.c_[np.ones(n_train), X_train] # Add intercept\n",
    "\n",
    "theta=logreg_sgd(X_train, y_train, 0.000001, 100)\n",
    "\n",
    "# Classify training set\n",
    "y_pred = 1*(X_train.dot(theta) > 0) # 1*(...) forces a conversion from bool to int\n",
    "error_rate = np.average(y_train != y_pred)\n",
    "print(\"Training set error rate: {0:1.3f}\".format(error_rate))\n",
    "\n",
    "# Classify test set\n",
    "X_test=np.c_[np.ones(n_test), X_test] # Add intercept\n",
    "y_pred = 1*(X_test.dot(theta) > 0)\n",
    "error_rate = sum(y_test != y_pred)/n_test\n",
    "print(\"Test set error rate: {0:1.3f}\".format(error_rate))\n",
    "\n",
    "# Interestingly, the test set error is usually somewhat lower than the training set error\n",
    "# This is probably due to the primitive stopping criterion uzed in the above SGD code\n",
    "\n",
    "# Analyze incorrect predictions in more detail\n",
    "# (see also confusion matrix below)\n",
    "print(\"Test examples incorrectly predicted as benign: \", sum(np.logical_and(y_pred == 0, y_test == 1)))\n",
    "print(\"Test examples incorrectly predicted as malignant: \", sum(np.logical_and(y_pred == 1, y_test == 0)))\n",
    "\n",
    "# Scikit can also calculate these summary statistics\n",
    "# (often referred to as \"true negatives\", \"false negatives\", \"true positives\", \"false positives\")\n",
    "C = confusion_matrix(y_test, y_pred)\n",
    "print(\"Confusion matrix:\\n\",C)"
   ]
  },
  {
   "cell_type": "code",
   "execution_count": null,
   "metadata": {},
   "outputs": [],
   "source": [
    "# Use the (proper) logistic regression implementation from scikit-learn\n",
    "from sklearn.linear_model import LogisticRegression\n",
    "\n",
    "reg = LogisticRegression() # Note that a L2 penalty is included by default (controlled by the C parameter)\n",
    "reg.fit(X_train, y_train)\n",
    "\n",
    "# Classify training set\n",
    "y_pred = reg.predict(X_train)\n",
    "print(\"Training set error: {0:1.3f}\".format(np.average(y_pred != y_train)))\n",
    "\n",
    "# Classify test set\n",
    "y_pred = reg.predict(X_test)\n",
    "print(\"Test set error: {0:1.3f}\".format(np.average(y_pred != y_test)))"
   ]
  }
 ],
 "metadata": {
  "kernelspec": {
   "display_name": "Python 3",
   "language": "python",
   "name": "python3"
  },
  "language_info": {
   "codemirror_mode": {
    "name": "ipython",
    "version": 3
   },
   "file_extension": ".py",
   "mimetype": "text/x-python",
   "name": "python",
   "nbconvert_exporter": "python",
   "pygments_lexer": "ipython3",
   "version": "3.6.3"
  }
 },
 "nbformat": 4,
 "nbformat_minor": 2
}
